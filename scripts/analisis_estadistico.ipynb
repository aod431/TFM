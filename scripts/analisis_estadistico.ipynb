{
 "cells": [
  {
   "cell_type": "markdown",
   "metadata": {},
   "source": [
    "Este notebook va a realizar el ANALISIS ESTADISTICO DEL TFM"
   ]
  },
  {
   "cell_type": "markdown",
   "metadata": {},
   "source": [
    "Tras haber hecho el pre procesado de la bbdd ya exportada con el programa Open Refine ahora vamos a hacer sus estadisticas"
   ]
  },
  {
   "cell_type": "code",
   "execution_count": 1,
   "metadata": {},
   "outputs": [],
   "source": [
    "import pandas as pd"
   ]
  },
  {
   "cell_type": "code",
   "execution_count": 2,
   "metadata": {},
   "outputs": [],
   "source": [
    "archivo = './ahogamientos-completo-procesado.csv'\n",
    "data  = pd.read_csv(archivo, sep=',', encoding='utf-8')"
   ]
  },
  {
   "cell_type": "code",
   "execution_count": 3,
   "metadata": {},
   "outputs": [
    {
     "data": {
      "text/html": [
       "<div>\n",
       "<style scoped>\n",
       "    .dataframe tbody tr th:only-of-type {\n",
       "        vertical-align: middle;\n",
       "    }\n",
       "\n",
       "    .dataframe tbody tr th {\n",
       "        vertical-align: top;\n",
       "    }\n",
       "\n",
       "    .dataframe thead th {\n",
       "        text-align: right;\n",
       "    }\n",
       "</style>\n",
       "<table border=\"1\" class=\"dataframe\">\n",
       "  <thead>\n",
       "    <tr style=\"text-align: right;\">\n",
       "      <th></th>\n",
       "      <th>IdAhogado</th>\n",
       "      <th>Fecha</th>\n",
       "      <th>Localidad</th>\n",
       "      <th>Provincia</th>\n",
       "      <th>Titular</th>\n",
       "      <th>Noticia</th>\n",
       "      <th>Enlace1</th>\n",
       "      <th>Enlace2</th>\n",
       "      <th>Enlace3</th>\n",
       "      <th>Enlace4</th>\n",
       "      <th>...</th>\n",
       "      <th>Causa</th>\n",
       "      <th>FactorRiesgo</th>\n",
       "      <th>Antecedentes</th>\n",
       "      <th>PrimerInterviniente</th>\n",
       "      <th>MaterialRescate</th>\n",
       "      <th>Extraccion</th>\n",
       "      <th>TipoAhogamiento</th>\n",
       "      <th>Reanimacion</th>\n",
       "      <th>Pronostico</th>\n",
       "      <th>Notas</th>\n",
       "    </tr>\n",
       "  </thead>\n",
       "  <tbody>\n",
       "    <tr>\n",
       "      <th>0</th>\n",
       "      <td>144</td>\n",
       "      <td>2013-01-01T00:00:00Z</td>\n",
       "      <td>Iznajar</td>\n",
       "      <td>Córdoba</td>\n",
       "      <td>Fallece un joven de 19 años al caer con su coc...</td>\n",
       "      <td>Un joven de 19 años de edad, del que se descon...</td>\n",
       "      <td>#http://www.abcdesevilla.es/andalucia/20130101...</td>\n",
       "      <td>http://www.abc.es/cordoba/20130104/sevp-buzos-...</td>\n",
       "      <td>http://www.abcdesevilla.es/andalucia/20130103/...</td>\n",
       "      <td>#https://www.diariodesevilla.es/sevilla/encuen...</td>\n",
       "      <td>...</td>\n",
       "      <td>Accidente, caída o zambullida accidentales</td>\n",
       "      <td>Peligrosidad del entorno</td>\n",
       "      <td>Sin datos</td>\n",
       "      <td>Acompañante, familiar, amigo</td>\n",
       "      <td>Sin datos</td>\n",
       "      <td>Cuerpo de Seguridad o Emergencias</td>\n",
       "      <td>Ahogamiento secundario a accidente</td>\n",
       "      <td>Recuperacion de cadaver</td>\n",
       "      <td>Ahogamiento mortal</td>\n",
       "      <td>NaN</td>\n",
       "    </tr>\n",
       "    <tr>\n",
       "      <th>1</th>\n",
       "      <td>146</td>\n",
       "      <td>2013-09-01T00:00:00Z</td>\n",
       "      <td>Puerto de la Cruz</td>\n",
       "      <td>Tenerife</td>\n",
       "      <td>Un alemán que llegó ayer a la Isla muere ahoga...</td>\n",
       "      <td>Un turista alemán, de 59 años, identificado co...</td>\n",
       "      <td>#http://www.laopinion.es/sucesos/2013/01/10/al...</td>\n",
       "      <td>#http://eldia.es/2013-01-10/SUCESOS/4-Muere-ah...</td>\n",
       "      <td>NaN</td>\n",
       "      <td>NaN</td>\n",
       "      <td>...</td>\n",
       "      <td>Sin datos</td>\n",
       "      <td>Sin datos</td>\n",
       "      <td>Sin datos</td>\n",
       "      <td>Socorrista</td>\n",
       "      <td>Sin datos</td>\n",
       "      <td>Socorrista</td>\n",
       "      <td>Posible Ahogamiento</td>\n",
       "      <td>RCP basica SOS y SVA por SEM</td>\n",
       "      <td>Ahogamiento mortal</td>\n",
       "      <td>NaN</td>\n",
       "    </tr>\n",
       "    <tr>\n",
       "      <th>2</th>\n",
       "      <td>147</td>\n",
       "      <td>2013-05-01T00:00:00Z</td>\n",
       "      <td>Arrecife</td>\n",
       "      <td>Lanzarote</td>\n",
       "      <td>Muere ahogado un alemán en una piscina del Pue...</td>\n",
       "      <td>Un hombre de 44 años de nacionalidad británica...</td>\n",
       "      <td>http://www.canarias7.es/articulo.cfm?id=287910...</td>\n",
       "      <td>NaN</td>\n",
       "      <td>NaN</td>\n",
       "      <td>NaN</td>\n",
       "      <td>...</td>\n",
       "      <td>Sin datos</td>\n",
       "      <td>Sin datos</td>\n",
       "      <td>Sin datos</td>\n",
       "      <td>Ciudadano</td>\n",
       "      <td>Sin datos</td>\n",
       "      <td>Ciudadano</td>\n",
       "      <td>Ahogado con sintomas de aspiración de agua</td>\n",
       "      <td>SVA por SEM</td>\n",
       "      <td>Ahogamiento mortal</td>\n",
       "      <td>NaN</td>\n",
       "    </tr>\n",
       "    <tr>\n",
       "      <th>3</th>\n",
       "      <td>148</td>\n",
       "      <td>2013-05-01T00:00:00Z</td>\n",
       "      <td>San Bartolomé de Tirajana</td>\n",
       "      <td>Gran Canaria</td>\n",
       "      <td>Un hombre de nacionalidad francesa fallece aho...</td>\n",
       "      <td>Un hombre de 67 años de nacionalidad francesa ...</td>\n",
       "      <td>#http://www.europapress.es/sociedad/sucesos-00...</td>\n",
       "      <td>NaN</td>\n",
       "      <td>NaN</td>\n",
       "      <td>NaN</td>\n",
       "      <td>...</td>\n",
       "      <td>Sin datos</td>\n",
       "      <td>Sin datos</td>\n",
       "      <td>Sin datos</td>\n",
       "      <td>Socorrista</td>\n",
       "      <td>Sin datos</td>\n",
       "      <td>Socorrista</td>\n",
       "      <td>Ahogado con sintomas de aspiración de agua</td>\n",
       "      <td>RCP basica SOS y SVA por SEM</td>\n",
       "      <td>Ahogamiento mortal</td>\n",
       "      <td>NaN</td>\n",
       "    </tr>\n",
       "    <tr>\n",
       "      <th>4</th>\n",
       "      <td>150</td>\n",
       "      <td>2013-06-01T00:00:00Z</td>\n",
       "      <td>Playa del Inglés</td>\n",
       "      <td>Gran Canaria</td>\n",
       "      <td>Fallece una francés por un posible ahogamiento...</td>\n",
       "      <td>Un hombre de 67 años y de origen francés ha fa...</td>\n",
       "      <td>#http://www.canarias7.es/articulo.cfm?id=287926#</td>\n",
       "      <td>NaN</td>\n",
       "      <td>NaN</td>\n",
       "      <td>NaN</td>\n",
       "      <td>...</td>\n",
       "      <td>Sin datos</td>\n",
       "      <td>Sin datos</td>\n",
       "      <td>Sin datos</td>\n",
       "      <td>Ciudadano</td>\n",
       "      <td>Sin datos</td>\n",
       "      <td>Socorrista</td>\n",
       "      <td>Posible Ahogamiento</td>\n",
       "      <td>RCP basica SOS y SVA por SEM</td>\n",
       "      <td>Ahogamiento mortal</td>\n",
       "      <td>NaN</td>\n",
       "    </tr>\n",
       "    <tr>\n",
       "      <th>...</th>\n",
       "      <td>...</td>\n",
       "      <td>...</td>\n",
       "      <td>...</td>\n",
       "      <td>...</td>\n",
       "      <td>...</td>\n",
       "      <td>...</td>\n",
       "      <td>...</td>\n",
       "      <td>...</td>\n",
       "      <td>...</td>\n",
       "      <td>...</td>\n",
       "      <td>...</td>\n",
       "      <td>...</td>\n",
       "      <td>...</td>\n",
       "      <td>...</td>\n",
       "      <td>...</td>\n",
       "      <td>...</td>\n",
       "      <td>...</td>\n",
       "      <td>...</td>\n",
       "      <td>...</td>\n",
       "      <td>...</td>\n",
       "      <td>...</td>\n",
       "    </tr>\n",
       "    <tr>\n",
       "      <th>11499</th>\n",
       "      <td>10120</td>\n",
       "      <td>2021-01-04T00:00:00Z</td>\n",
       "      <td>Gijón, Elogio del Horizonte</td>\n",
       "      <td>Asturias</td>\n",
       "      <td>Encuentran en Gijón el cadáver de una mujer qu...</td>\n",
       "      <td>Encuentran en Gijón el cadáver de una mujer qu...</td>\n",
       "      <td>#https://www.lavozdeasturias.es/noticia/gijon/...</td>\n",
       "      <td>#https://www.lne.es/gijon/2021/04/02/rescatan-...</td>\n",
       "      <td>#https://www.elcomercio.es/gijon/hallan-cadave...</td>\n",
       "      <td>NaN</td>\n",
       "      <td>...</td>\n",
       "      <td>Suicidio</td>\n",
       "      <td>Sin datos</td>\n",
       "      <td>Sin datos</td>\n",
       "      <td>Ciudadano</td>\n",
       "      <td>Sin datos</td>\n",
       "      <td>Cuerpo de Seguridad o Emergencias</td>\n",
       "      <td>Posible Ahogamiento</td>\n",
       "      <td>Recuperacion de cadaver</td>\n",
       "      <td>Ahogamiento mortal</td>\n",
       "      <td>NaN</td>\n",
       "    </tr>\n",
       "    <tr>\n",
       "      <th>11500</th>\n",
       "      <td>10121</td>\n",
       "      <td>2021-03-29T00:00:00Z</td>\n",
       "      <td>Alcalá de Guadaira,Torrondo, Río Guadaira</td>\n",
       "      <td>Sevilla</td>\n",
       "      <td>Complicado rescate de un ciclista herido tras ...</td>\n",
       "      <td>Complicado rescate de un ciclista herido tras ...</td>\n",
       "      <td>#https://www.sevillaactualidad.com/alcala-de-g...</td>\n",
       "      <td>#https://www.lavozdealcala.com/noticias/47118-...</td>\n",
       "      <td>NaN</td>\n",
       "      <td>NaN</td>\n",
       "      <td>...</td>\n",
       "      <td>Accidente de Trafico</td>\n",
       "      <td>Sin datos</td>\n",
       "      <td>Sin datos</td>\n",
       "      <td>Acompañante, familiar, amigo</td>\n",
       "      <td>Sin datos</td>\n",
       "      <td>Cuerpo de Seguridad o Emergencias</td>\n",
       "      <td>Ahogamiento secundario a accidente</td>\n",
       "      <td>Sin Reanimacion</td>\n",
       "      <td>Ahogamiento no mortal con hospitalizacion</td>\n",
       "      <td>NaN</td>\n",
       "    </tr>\n",
       "    <tr>\n",
       "      <th>11501</th>\n",
       "      <td>10122</td>\n",
       "      <td>2025-04-04T00:00:00Z</td>\n",
       "      <td>Yaiza, Playa Blanca</td>\n",
       "      <td>Lanzarote</td>\n",
       "      <td>Rescatan a una persona con signos de ahogamien...</td>\n",
       "      <td>Rescatan a una persona con signos de ahogamien...</td>\n",
       "      <td>#https://www3.gobiernodecanarias.org/noticias/...</td>\n",
       "      <td>#https://diariodeavisos.elespanol.com/2025/04/...</td>\n",
       "      <td>#https://www.lavozdelanzarote.com/actualidad/s...</td>\n",
       "      <td>NaN</td>\n",
       "      <td>...</td>\n",
       "      <td>Sin datos</td>\n",
       "      <td>Edad, Enfermedad, Enfermedad Mental</td>\n",
       "      <td>Sin datos</td>\n",
       "      <td>Ciudadano</td>\n",
       "      <td>Sin datos</td>\n",
       "      <td>Ciudadano</td>\n",
       "      <td>Ahogado con sintomas de aspiración de agua</td>\n",
       "      <td>RCP basica temprana por transeunte adiestrado</td>\n",
       "      <td>Ahogamiento no mortal con hospitalizacion</td>\n",
       "      <td>NaN</td>\n",
       "    </tr>\n",
       "    <tr>\n",
       "      <th>11502</th>\n",
       "      <td>10124</td>\n",
       "      <td>2025-04-04T00:00:00Z</td>\n",
       "      <td>Mogán, Playa de Amadores</td>\n",
       "      <td>Gran Canaria</td>\n",
       "      <td>Un bañista es sacado del agua con signos de ah...</td>\n",
       "      <td>Un bañista es sacado del agua con signos de ah...</td>\n",
       "      <td>#https://www3.gobiernodecanarias.org/noticias/...</td>\n",
       "      <td>#https://www.eldiario.es/canariasahora/sucesos...</td>\n",
       "      <td>NaN</td>\n",
       "      <td>NaN</td>\n",
       "      <td>...</td>\n",
       "      <td>Sin datos</td>\n",
       "      <td>Edad, Enfermedad, Enfermedad Mental</td>\n",
       "      <td>Sin datos</td>\n",
       "      <td>Ciudadano</td>\n",
       "      <td>Sin datos</td>\n",
       "      <td>Ciudadano</td>\n",
       "      <td>Ahogado con sintomas de aspiración de agua</td>\n",
       "      <td>RCP temprana por transeuntes no adiestrados</td>\n",
       "      <td>Ahogamiento no mortal con hospitalizacion</td>\n",
       "      <td>NaN</td>\n",
       "    </tr>\n",
       "    <tr>\n",
       "      <th>11503</th>\n",
       "      <td>10125</td>\n",
       "      <td>2025-03-04T00:00:00Z</td>\n",
       "      <td>Santa Eularia</td>\n",
       "      <td>Ibiza</td>\n",
       "      <td>Dos Guardias Civiles arriesgan su vida para re...</td>\n",
       "      <td>Dos Guardias Civiles arriesgan su vida para re...</td>\n",
       "      <td>#https://www.noudiari.es/local-ibiza/dos-guard...</td>\n",
       "      <td>#https://www.ultimahora.es/sucesos/ultimas/202...</td>\n",
       "      <td>NaN</td>\n",
       "      <td>NaN</td>\n",
       "      <td>...</td>\n",
       "      <td>Naufragio</td>\n",
       "      <td>Peligrosidad del entorno</td>\n",
       "      <td>Sin datos</td>\n",
       "      <td>Ciudadano</td>\n",
       "      <td>Sin datos</td>\n",
       "      <td>Fuerzas orden publico</td>\n",
       "      <td>Perdida de Control</td>\n",
       "      <td>Sin Reanimacion</td>\n",
       "      <td>Rescate sin consecuencias</td>\n",
       "      <td>NaN</td>\n",
       "    </tr>\n",
       "  </tbody>\n",
       "</table>\n",
       "<p>11504 rows × 40 columns</p>\n",
       "</div>"
      ],
      "text/plain": [
       "       IdAhogado                 Fecha  \\\n",
       "0            144  2013-01-01T00:00:00Z   \n",
       "1            146  2013-09-01T00:00:00Z   \n",
       "2            147  2013-05-01T00:00:00Z   \n",
       "3            148  2013-05-01T00:00:00Z   \n",
       "4            150  2013-06-01T00:00:00Z   \n",
       "...          ...                   ...   \n",
       "11499      10120  2021-01-04T00:00:00Z   \n",
       "11500      10121  2021-03-29T00:00:00Z   \n",
       "11501      10122  2025-04-04T00:00:00Z   \n",
       "11502      10124  2025-04-04T00:00:00Z   \n",
       "11503      10125  2025-03-04T00:00:00Z   \n",
       "\n",
       "                                       Localidad     Provincia  \\\n",
       "0                                        Iznajar       Córdoba   \n",
       "1                              Puerto de la Cruz      Tenerife   \n",
       "2                                       Arrecife     Lanzarote   \n",
       "3                      San Bartolomé de Tirajana  Gran Canaria   \n",
       "4                               Playa del Inglés  Gran Canaria   \n",
       "...                                          ...           ...   \n",
       "11499                Gijón, Elogio del Horizonte      Asturias   \n",
       "11500  Alcalá de Guadaira,Torrondo, Río Guadaira       Sevilla   \n",
       "11501                        Yaiza, Playa Blanca     Lanzarote   \n",
       "11502                   Mogán, Playa de Amadores  Gran Canaria   \n",
       "11503                              Santa Eularia         Ibiza   \n",
       "\n",
       "                                                 Titular  \\\n",
       "0      Fallece un joven de 19 años al caer con su coc...   \n",
       "1      Un alemán que llegó ayer a la Isla muere ahoga...   \n",
       "2      Muere ahogado un alemán en una piscina del Pue...   \n",
       "3      Un hombre de nacionalidad francesa fallece aho...   \n",
       "4      Fallece una francés por un posible ahogamiento...   \n",
       "...                                                  ...   \n",
       "11499  Encuentran en Gijón el cadáver de una mujer qu...   \n",
       "11500  Complicado rescate de un ciclista herido tras ...   \n",
       "11501  Rescatan a una persona con signos de ahogamien...   \n",
       "11502  Un bañista es sacado del agua con signos de ah...   \n",
       "11503  Dos Guardias Civiles arriesgan su vida para re...   \n",
       "\n",
       "                                                 Noticia  \\\n",
       "0      Un joven de 19 años de edad, del que se descon...   \n",
       "1      Un turista alemán, de 59 años, identificado co...   \n",
       "2      Un hombre de 44 años de nacionalidad británica...   \n",
       "3      Un hombre de 67 años de nacionalidad francesa ...   \n",
       "4      Un hombre de 67 años y de origen francés ha fa...   \n",
       "...                                                  ...   \n",
       "11499  Encuentran en Gijón el cadáver de una mujer qu...   \n",
       "11500  Complicado rescate de un ciclista herido tras ...   \n",
       "11501  Rescatan a una persona con signos de ahogamien...   \n",
       "11502  Un bañista es sacado del agua con signos de ah...   \n",
       "11503  Dos Guardias Civiles arriesgan su vida para re...   \n",
       "\n",
       "                                                 Enlace1  \\\n",
       "0      #http://www.abcdesevilla.es/andalucia/20130101...   \n",
       "1      #http://www.laopinion.es/sucesos/2013/01/10/al...   \n",
       "2      http://www.canarias7.es/articulo.cfm?id=287910...   \n",
       "3      #http://www.europapress.es/sociedad/sucesos-00...   \n",
       "4       #http://www.canarias7.es/articulo.cfm?id=287926#   \n",
       "...                                                  ...   \n",
       "11499  #https://www.lavozdeasturias.es/noticia/gijon/...   \n",
       "11500  #https://www.sevillaactualidad.com/alcala-de-g...   \n",
       "11501  #https://www3.gobiernodecanarias.org/noticias/...   \n",
       "11502  #https://www3.gobiernodecanarias.org/noticias/...   \n",
       "11503  #https://www.noudiari.es/local-ibiza/dos-guard...   \n",
       "\n",
       "                                                 Enlace2  \\\n",
       "0      http://www.abc.es/cordoba/20130104/sevp-buzos-...   \n",
       "1      #http://eldia.es/2013-01-10/SUCESOS/4-Muere-ah...   \n",
       "2                                                    NaN   \n",
       "3                                                    NaN   \n",
       "4                                                    NaN   \n",
       "...                                                  ...   \n",
       "11499  #https://www.lne.es/gijon/2021/04/02/rescatan-...   \n",
       "11500  #https://www.lavozdealcala.com/noticias/47118-...   \n",
       "11501  #https://diariodeavisos.elespanol.com/2025/04/...   \n",
       "11502  #https://www.eldiario.es/canariasahora/sucesos...   \n",
       "11503  #https://www.ultimahora.es/sucesos/ultimas/202...   \n",
       "\n",
       "                                                 Enlace3  \\\n",
       "0      http://www.abcdesevilla.es/andalucia/20130103/...   \n",
       "1                                                    NaN   \n",
       "2                                                    NaN   \n",
       "3                                                    NaN   \n",
       "4                                                    NaN   \n",
       "...                                                  ...   \n",
       "11499  #https://www.elcomercio.es/gijon/hallan-cadave...   \n",
       "11500                                                NaN   \n",
       "11501  #https://www.lavozdelanzarote.com/actualidad/s...   \n",
       "11502                                                NaN   \n",
       "11503                                                NaN   \n",
       "\n",
       "                                                 Enlace4  ...  \\\n",
       "0      #https://www.diariodesevilla.es/sevilla/encuen...  ...   \n",
       "1                                                    NaN  ...   \n",
       "2                                                    NaN  ...   \n",
       "3                                                    NaN  ...   \n",
       "4                                                    NaN  ...   \n",
       "...                                                  ...  ...   \n",
       "11499                                                NaN  ...   \n",
       "11500                                                NaN  ...   \n",
       "11501                                                NaN  ...   \n",
       "11502                                                NaN  ...   \n",
       "11503                                                NaN  ...   \n",
       "\n",
       "                                            Causa  \\\n",
       "0      Accidente, caída o zambullida accidentales   \n",
       "1                                       Sin datos   \n",
       "2                                       Sin datos   \n",
       "3                                       Sin datos   \n",
       "4                                       Sin datos   \n",
       "...                                           ...   \n",
       "11499                                    Suicidio   \n",
       "11500                        Accidente de Trafico   \n",
       "11501                                   Sin datos   \n",
       "11502                                   Sin datos   \n",
       "11503                                   Naufragio   \n",
       "\n",
       "                              FactorRiesgo Antecedentes  \\\n",
       "0                 Peligrosidad del entorno    Sin datos   \n",
       "1                                Sin datos    Sin datos   \n",
       "2                                Sin datos    Sin datos   \n",
       "3                                Sin datos    Sin datos   \n",
       "4                                Sin datos    Sin datos   \n",
       "...                                    ...          ...   \n",
       "11499                            Sin datos    Sin datos   \n",
       "11500                            Sin datos    Sin datos   \n",
       "11501  Edad, Enfermedad, Enfermedad Mental    Sin datos   \n",
       "11502  Edad, Enfermedad, Enfermedad Mental    Sin datos   \n",
       "11503             Peligrosidad del entorno    Sin datos   \n",
       "\n",
       "                PrimerInterviniente MaterialRescate  \\\n",
       "0      Acompañante, familiar, amigo       Sin datos   \n",
       "1                        Socorrista       Sin datos   \n",
       "2                         Ciudadano       Sin datos   \n",
       "3                        Socorrista       Sin datos   \n",
       "4                         Ciudadano       Sin datos   \n",
       "...                             ...             ...   \n",
       "11499                     Ciudadano       Sin datos   \n",
       "11500  Acompañante, familiar, amigo       Sin datos   \n",
       "11501                     Ciudadano       Sin datos   \n",
       "11502                     Ciudadano       Sin datos   \n",
       "11503                     Ciudadano       Sin datos   \n",
       "\n",
       "                              Extraccion  \\\n",
       "0      Cuerpo de Seguridad o Emergencias   \n",
       "1                             Socorrista   \n",
       "2                              Ciudadano   \n",
       "3                             Socorrista   \n",
       "4                             Socorrista   \n",
       "...                                  ...   \n",
       "11499  Cuerpo de Seguridad o Emergencias   \n",
       "11500  Cuerpo de Seguridad o Emergencias   \n",
       "11501                          Ciudadano   \n",
       "11502                          Ciudadano   \n",
       "11503              Fuerzas orden publico   \n",
       "\n",
       "                                  TipoAhogamiento  \\\n",
       "0              Ahogamiento secundario a accidente   \n",
       "1                             Posible Ahogamiento   \n",
       "2      Ahogado con sintomas de aspiración de agua   \n",
       "3      Ahogado con sintomas de aspiración de agua   \n",
       "4                             Posible Ahogamiento   \n",
       "...                                           ...   \n",
       "11499                         Posible Ahogamiento   \n",
       "11500          Ahogamiento secundario a accidente   \n",
       "11501  Ahogado con sintomas de aspiración de agua   \n",
       "11502  Ahogado con sintomas de aspiración de agua   \n",
       "11503                          Perdida de Control   \n",
       "\n",
       "                                         Reanimacion  \\\n",
       "0                            Recuperacion de cadaver   \n",
       "1                       RCP basica SOS y SVA por SEM   \n",
       "2                                        SVA por SEM   \n",
       "3                       RCP basica SOS y SVA por SEM   \n",
       "4                       RCP basica SOS y SVA por SEM   \n",
       "...                                              ...   \n",
       "11499                        Recuperacion de cadaver   \n",
       "11500                                Sin Reanimacion   \n",
       "11501  RCP basica temprana por transeunte adiestrado   \n",
       "11502    RCP temprana por transeuntes no adiestrados   \n",
       "11503                                Sin Reanimacion   \n",
       "\n",
       "                                      Pronostico Notas  \n",
       "0                             Ahogamiento mortal   NaN  \n",
       "1                             Ahogamiento mortal   NaN  \n",
       "2                             Ahogamiento mortal   NaN  \n",
       "3                             Ahogamiento mortal   NaN  \n",
       "4                             Ahogamiento mortal   NaN  \n",
       "...                                          ...   ...  \n",
       "11499                         Ahogamiento mortal   NaN  \n",
       "11500  Ahogamiento no mortal con hospitalizacion   NaN  \n",
       "11501  Ahogamiento no mortal con hospitalizacion   NaN  \n",
       "11502  Ahogamiento no mortal con hospitalizacion   NaN  \n",
       "11503                  Rescate sin consecuencias   NaN  \n",
       "\n",
       "[11504 rows x 40 columns]"
      ]
     },
     "execution_count": 3,
     "metadata": {},
     "output_type": "execute_result"
    }
   ],
   "source": [
    "data"
   ]
  },
  {
   "cell_type": "code",
   "execution_count": 4,
   "metadata": {},
   "outputs": [
    {
     "data": {
      "text/plain": [
       "['IdAhogado',\n",
       " 'Fecha',\n",
       " 'Localidad',\n",
       " 'Provincia',\n",
       " 'Titular',\n",
       " 'Noticia',\n",
       " 'Enlace1',\n",
       " 'Enlace2',\n",
       " 'Enlace3',\n",
       " 'Enlace4',\n",
       " 'Enlace5',\n",
       " 'CCAA',\n",
       " 'Hora',\n",
       " 'Vigilancia',\n",
       " 'Latitud',\n",
       " 'Longitud',\n",
       " 'Maps',\n",
       " 'Actividad',\n",
       " 'Deteccion',\n",
       " 'Intervencion',\n",
       " 'Localizacion',\n",
       " 'Riesgo',\n",
       " 'Campo1',\n",
       " 'Campo2',\n",
       " 'Tweet',\n",
       " 'IdPersona',\n",
       " 'Sexo',\n",
       " 'Edad',\n",
       " 'Nacionalidad',\n",
       " 'Origen',\n",
       " 'Causa',\n",
       " 'FactorRiesgo',\n",
       " 'Antecedentes',\n",
       " 'PrimerInterviniente',\n",
       " 'MaterialRescate',\n",
       " 'Extraccion',\n",
       " 'TipoAhogamiento',\n",
       " 'Reanimacion',\n",
       " 'Pronostico',\n",
       " 'Notas']"
      ]
     },
     "execution_count": 4,
     "metadata": {},
     "output_type": "execute_result"
    }
   ],
   "source": [
    "list(data.columns)"
   ]
  },
  {
   "cell_type": "code",
   "execution_count": 5,
   "metadata": {},
   "outputs": [
    {
     "data": {
      "text/plain": [
       "IdAhogado                int64\n",
       "Fecha                   object\n",
       "Localidad               object\n",
       "Provincia               object\n",
       "Titular                 object\n",
       "Noticia                 object\n",
       "Enlace1                 object\n",
       "Enlace2                 object\n",
       "Enlace3                 object\n",
       "Enlace4                 object\n",
       "Enlace5                 object\n",
       "CCAA                    object\n",
       "Hora                    object\n",
       "Vigilancia              object\n",
       "Latitud                 object\n",
       "Longitud                object\n",
       "Maps                    object\n",
       "Actividad               object\n",
       "Deteccion               object\n",
       "Intervencion            object\n",
       "Localizacion            object\n",
       "Riesgo                  object\n",
       "Campo1                 float64\n",
       "Campo2                  object\n",
       "Tweet                   object\n",
       "IdPersona                int64\n",
       "Sexo                    object\n",
       "Edad                   float64\n",
       "Nacionalidad            object\n",
       "Origen                  object\n",
       "Causa                   object\n",
       "FactorRiesgo            object\n",
       "Antecedentes            object\n",
       "PrimerInterviniente     object\n",
       "MaterialRescate         object\n",
       "Extraccion              object\n",
       "TipoAhogamiento         object\n",
       "Reanimacion             object\n",
       "Pronostico              object\n",
       "Notas                   object\n",
       "dtype: object"
      ]
     },
     "execution_count": 5,
     "metadata": {},
     "output_type": "execute_result"
    }
   ],
   "source": [
    "data.dtypes"
   ]
  },
  {
   "cell_type": "markdown",
   "metadata": {},
   "source": [
    "hacemos una copia del dataset para no cambiar el dataset original importado y realizar los cambios sobre el data2"
   ]
  },
  {
   "cell_type": "code",
   "execution_count": 6,
   "metadata": {},
   "outputs": [],
   "source": [
    "data2 = data.copy()"
   ]
  },
  {
   "cell_type": "markdown",
   "metadata": {},
   "source": [
    "como la mayoria de las variables son de tipo (object)\n",
    "\n",
    "En pandas el tipo object indica que la columna es de tipo NO NUMERICO, que puede ser texto, cadenas de texto, mixto,...\n",
    "\n",
    "Lo que vamos a hacer es categorizar las respuestas\n",
    "\n",
    "Y tambien las fechas y horas pasarlas a formato tiempo."
   ]
  },
  {
   "cell_type": "markdown",
   "metadata": {},
   "source": [
    "como todas las variables son de tipo (object)mq"
   ]
  },
  {
   "cell_type": "code",
   "execution_count": 7,
   "metadata": {},
   "outputs": [],
   "source": [
    "a_categorica = [ 'Localidad',\n",
    " 'Provincia',\n",
    " 'CCAA',\n",
    " 'Vigilancia',\n",
    " 'Actividad',\n",
    " 'Deteccion',\n",
    " 'Intervencion',\n",
    " 'Localizacion',\n",
    " 'Riesgo',\n",
    " 'Sexo',\n",
    " 'Nacionalidad',\n",
    " 'Origen',\n",
    " 'Causa',\n",
    " 'FactorRiesgo',\n",
    " 'Antecedentes',\n",
    " 'PrimerInterviniente',\n",
    " 'MaterialRescate',\n",
    " 'Extraccion',\n",
    " 'TipoAhogamiento',\n",
    " 'Reanimacion',\n",
    " 'Pronostico']\n",
    "\n",
    "a_numerica = ['IdAhogado', 'IdPersona', 'Edad']\n",
    "              \n",
    "a_fecha = ['Fecha', 'Hora']"
   ]
  },
  {
   "cell_type": "code",
   "execution_count": 8,
   "metadata": {},
   "outputs": [],
   "source": [
    "for i in a_categorica:\n",
    "    data2[i] = data2[i].astype('category')\n",
    "\n",
    "for i in a_numerica:\n",
    "    data2[i] = pd.to_numeric(data2[i], errors='coerce').dropna().astype('int64')"
   ]
  },
  {
   "cell_type": "markdown",
   "metadata": {},
   "source": [
    "ojo con las fechas y horas que no tienen datos ya que sino da error\n",
    "\n",
    "Aqui abajo vemos que en la fecha todas son validas pero en la hora no todas lo son"
   ]
  },
  {
   "cell_type": "code",
   "execution_count": 9,
   "metadata": {},
   "outputs": [
    {
     "name": "stdout",
     "output_type": "stream",
     "text": [
      "Casos con Fecha no válida: 0\n",
      "Casos con Hora no válida: 2305\n",
      "     IdAhogado                 Fecha Hora\n",
      "27         486  2013-01-09T00:00:00Z  NaN\n",
      "51         509  2013-06-09T00:00:00Z  NaN\n",
      "59         514  2013-08-28T00:00:00Z  NaN\n",
      "85         538  2013-10-15T00:00:00Z  NaN\n",
      "141        598  2013-06-21T00:00:00Z  NaN\n"
     ]
    }
   ],
   "source": [
    "fecha_no_validos = data['Fecha'].isna().sum()\n",
    "\n",
    "hora_no_validos = data['Hora'].isna().sum()\n",
    "\n",
    "print(f\"Casos con Fecha no válida: {fecha_no_validos}\")\n",
    "print(f\"Casos con Hora no válida: {hora_no_validos}\")\n",
    "\n",
    "ejemplos_no_validos_hora = data[data['Hora'].isna()]\n",
    "print(ejemplos_no_validos_hora[['IdAhogado', 'Fecha', 'Hora']].head())"
   ]
  },
  {
   "cell_type": "markdown",
   "metadata": {},
   "source": [
    "Vemos que hay algunos que son NaN entonces se va a usar el errors='coerce' y nos los omite poniendolos como NaT (Not a time)"
   ]
  },
  {
   "cell_type": "markdown",
   "metadata": {},
   "source": [
    "Para extraer solo la parte de la fecha (antes de la 'T')\n",
    "\n",
    "Para extraer solo la parte de la hora (después de la 'T', quitando la 'Z')"
   ]
  },
  {
   "cell_type": "code",
   "execution_count": 10,
   "metadata": {},
   "outputs": [],
   "source": [
    "\n",
    "data2[\"Fecha\"] = data2[\"Fecha\"].str.split(\"T\").str[0]\n",
    "\n",
    "data2[\"Hora\"] = data2[\"Hora\"].str.split(\"T\").str[1].str.replace(\"Z\", \"\")\n"
   ]
  },
  {
   "cell_type": "code",
   "execution_count": 11,
   "metadata": {},
   "outputs": [],
   "source": [
    "data2[\"Fecha\"] = pd.to_datetime(data2[\"Fecha\"], errors=\"coerce\")"
   ]
  },
  {
   "cell_type": "code",
   "execution_count": 12,
   "metadata": {},
   "outputs": [],
   "source": [
    "data2[\"Hora\"] = pd.to_datetime(data2[\"Hora\"], format=\"%H:%M:%S\", errors=\"coerce\").dt.time"
   ]
  },
  {
   "cell_type": "markdown",
   "metadata": {},
   "source": [
    "Vemos abajo que con el comando errors = \"coerce\" se evitan los valores faltantes y se pone NaT"
   ]
  },
  {
   "cell_type": "code",
   "execution_count": 13,
   "metadata": {},
   "outputs": [
    {
     "name": "stdout",
     "output_type": "stream",
     "text": [
      "     IdAhogado      Fecha Hora\n",
      "27         486 2013-01-09  NaT\n",
      "51         509 2013-06-09  NaT\n",
      "59         514 2013-08-28  NaT\n",
      "85         538 2013-10-15  NaT\n",
      "141        598 2013-06-21  NaT\n"
     ]
    }
   ],
   "source": [
    "ejemplos_no_validos_hora_2 = data2[data2['Hora'].isna()]\n",
    "print(ejemplos_no_validos_hora_2[['IdAhogado', 'Fecha', 'Hora']].head())"
   ]
  },
  {
   "cell_type": "code",
   "execution_count": 14,
   "metadata": {},
   "outputs": [
    {
     "data": {
      "text/plain": [
       "IdAhogado                                                           1556\n",
       "Fecha                                                2015-04-13 00:00:00\n",
       "Localidad                                      Málaga, Playa de la Venus\n",
       "Provincia                                                         Málaga\n",
       "Titular                Mueren ahogados dos estudiantes y un profesor ...\n",
       "Noticia                Mueren ahogados dos estudiantes y un profesor ...\n",
       "Enlace1                #http://sevilla.abc.es/andalucia/malaga/201504...\n",
       "Enlace2                #http://www.diariosur.es/marbella-estepona/201...\n",
       "Enlace3                #http://www.diariosur.es/marbella-estepona/201...\n",
       "Enlace4                #http://www.heraldo.es/noticias/nacional/2015/...\n",
       "Enlace5                                                              NaN\n",
       "CCAA                                                           Andalucía\n",
       "Hora                                                            15:30:00\n",
       "Vigilancia                                                   No vigilado\n",
       "Latitud                                                        36.506453\n",
       "Longitud                                                       -4.886741\n",
       "Maps                                                                 NaN\n",
       "Actividad                                            Natación recreativa\n",
       "Deteccion                                   Acompañante, familiar, amigo\n",
       "Intervencion                   Asistencia por transeúntes no adiestrados\n",
       "Localizacion                                       Playas sin vigilancia\n",
       "Riesgo                 Buenas condiciones metereológicas o del agua (...\n",
       "Campo1                                                               NaN\n",
       "Campo2                                                               NaN\n",
       "Tweet                                                                NaN\n",
       "IdPersona                                                           1417\n",
       "Sexo                                                              Hombre\n",
       "Edad                                                                18.0\n",
       "Nacionalidad                                                     Turquía\n",
       "Origen                                                        Extranjero\n",
       "Causa                                                          Sin datos\n",
       "FactorRiesgo                                                   Sin datos\n",
       "Antecedentes                                         Discapacidad física\n",
       "PrimerInterviniente                         Acompañante, familiar, amigo\n",
       "MaterialRescate                                                Sin datos\n",
       "Extraccion                             Cuerpo de Seguridad o Emergencias\n",
       "TipoAhogamiento               Ahogado con sintomas de aspiración de agua\n",
       "Reanimacion                                                  SVA por SEM\n",
       "Pronostico                                            Ahogamiento mortal\n",
       "Notas                                                                NaN\n",
       "Name: 1070, dtype: object"
      ]
     },
     "execution_count": 14,
     "metadata": {},
     "output_type": "execute_result"
    }
   ],
   "source": [
    "data2.iloc[1070]"
   ]
  },
  {
   "cell_type": "markdown",
   "metadata": {},
   "source": [
    "Con esto veo las posibles categorias que tiene una columna"
   ]
  },
  {
   "cell_type": "code",
   "execution_count": 15,
   "metadata": {},
   "outputs": [
    {
     "name": "stdout",
     "output_type": "stream",
     "text": [
      "['Acompañante, familiar, amigo', 'Socorrista en servicio', 'Ciudadano', 'Sin datos', 'Servicios de emergencia, policia, bomberos', 'Personal instalacion', 'Socorrista no en servicio', 'Otro']\n",
      "Categories (8, object): ['Acompañante, familiar, amigo', 'Ciudadano', 'Otro', 'Personal instalacion', 'Servicios de emergencia, policia, bomberos', 'Sin datos', 'Socorrista en servicio', 'Socorrista no en servicio']\n"
     ]
    }
   ],
   "source": [
    "posibles_pronosticos = data2['Deteccion'].unique()\n",
    "print(posibles_pronosticos)"
   ]
  },
  {
   "cell_type": "markdown",
   "metadata": {},
   "source": [
    "Vemos que ya han cambiado los tipos de las columnas"
   ]
  },
  {
   "cell_type": "code",
   "execution_count": 16,
   "metadata": {},
   "outputs": [
    {
     "data": {
      "text/plain": [
       "IdAhogado                       int64\n",
       "Fecha                  datetime64[ns]\n",
       "Localidad                    category\n",
       "Provincia                    category\n",
       "Titular                        object\n",
       "Noticia                        object\n",
       "Enlace1                        object\n",
       "Enlace2                        object\n",
       "Enlace3                        object\n",
       "Enlace4                        object\n",
       "Enlace5                        object\n",
       "CCAA                         category\n",
       "Hora                           object\n",
       "Vigilancia                   category\n",
       "Latitud                        object\n",
       "Longitud                       object\n",
       "Maps                           object\n",
       "Actividad                    category\n",
       "Deteccion                    category\n",
       "Intervencion                 category\n",
       "Localizacion                 category\n",
       "Riesgo                       category\n",
       "Campo1                        float64\n",
       "Campo2                         object\n",
       "Tweet                          object\n",
       "IdPersona                       int64\n",
       "Sexo                         category\n",
       "Edad                          float64\n",
       "Nacionalidad                 category\n",
       "Origen                       category\n",
       "Causa                        category\n",
       "FactorRiesgo                 category\n",
       "Antecedentes                 category\n",
       "PrimerInterviniente          category\n",
       "MaterialRescate              category\n",
       "Extraccion                   category\n",
       "TipoAhogamiento              category\n",
       "Reanimacion                  category\n",
       "Pronostico                   category\n",
       "Notas                          object\n",
       "dtype: object"
      ]
     },
     "execution_count": 16,
     "metadata": {},
     "output_type": "execute_result"
    }
   ],
   "source": [
    "data2.dtypes"
   ]
  },
  {
   "cell_type": "markdown",
   "metadata": {},
   "source": [
    "consulta rapida para ver que tal se manejan las fechas"
   ]
  },
  {
   "cell_type": "code",
   "execution_count": 17,
   "metadata": {},
   "outputs": [
    {
     "name": "stdout",
     "output_type": "stream",
     "text": [
      "Antes del 2020: 8039\n",
      "Desde el 2020: 3465\n"
     ]
    }
   ],
   "source": [
    "antes_2020 = data2[data2[\"Fecha\"] < \"2021-01-01\"].shape[0]\n",
    "despues_2020 = data2[data2[\"Fecha\"] >= \"2021-01-01\"].shape[0]\n",
    "\n",
    "print(\"Antes del 2020:\", antes_2020)\n",
    "print(\"Desde el 2020:\", despues_2020)\n"
   ]
  },
  {
   "cell_type": "markdown",
   "metadata": {},
   "source": [
    "con las fechas bien\n",
    "\n",
    "veamos que tal con las horas"
   ]
  },
  {
   "cell_type": "code",
   "execution_count": 18,
   "metadata": {},
   "outputs": [
    {
     "name": "stdout",
     "output_type": "stream",
     "text": [
      "Antes de las 15:00: 4582\n",
      "Desde las 15:00: 4617\n"
     ]
    }
   ],
   "source": [
    "from datetime import time\n",
    "\n",
    "antes_15 = data2[data2[\"Hora\"] < time(15, 0)].shape[0]\n",
    "despues_15 = data2[data2[\"Hora\"] >= time(15, 0)].shape[0]\n",
    "\n",
    "print(\"Antes de las 15:00:\", antes_15)\n",
    "print(\"Desde las 15:00:\", despues_15)\n"
   ]
  },
  {
   "cell_type": "markdown",
   "metadata": {},
   "source": [
    "tambien bien"
   ]
  },
  {
   "cell_type": "markdown",
   "metadata": {},
   "source": []
  },
  {
   "cell_type": "markdown",
   "metadata": {},
   "source": [
    "### SIGUIENTE APARTADO"
   ]
  },
  {
   "cell_type": "markdown",
   "metadata": {},
   "source": [
    "* Que porcentaje hay de missing values?\n"
   ]
  },
  {
   "cell_type": "markdown",
   "metadata": {},
   "source": [
    "Como el foco el tfm va a ser de EDAD, vamos a ver que % hay de Sin datos"
   ]
  },
  {
   "cell_type": "code",
   "execution_count": 17,
   "metadata": {},
   "outputs": [
    {
     "name": "stdout",
     "output_type": "stream",
     "text": [
      "Cantidad de valores no válidos en la columna 'Edad': 20.30 %\n"
     ]
    }
   ],
   "source": [
    "nan_edad = data2['Edad'].isna().sum()\n",
    "dimension = data2.shape[0]\n",
    "print(f\"Cantidad de valores no válidos en la columna 'Edad': {((nan_edad/dimension)*100):.2f} %\")\n"
   ]
  },
  {
   "cell_type": "markdown",
   "metadata": {},
   "source": [
    "Como la distribucion de la edad"
   ]
  },
  {
   "cell_type": "markdown",
   "metadata": {},
   "source": [
    "* Cual es la distribucion entre hombres y mujeres\n"
   ]
  },
  {
   "cell_type": "code",
   "execution_count": 20,
   "metadata": {},
   "outputs": [
    {
     "name": "stdout",
     "output_type": "stream",
     "text": [
      "Total registros: 11504\n",
      "Hombres: 8194 (71.23%)\n",
      "Mujeres: 2703 (23.50%)\n",
      "Valores no válidos: 607 (5.28%)\n"
     ]
    }
   ],
   "source": [
    "total_sexo = data2['Sexo'].shape[0]\n",
    "\n",
    "hombres_count = data2[data2['Sexo'] == 'Hombre'].shape[0]\n",
    "mujeres_count = data2[data2['Sexo'] == 'Mujer'].shape[0]\n",
    "sindatos_count = data2[data2['Sexo'] == 'Sin Datos'].shape[0]\n",
    "\n",
    "hombres_percentage = (hombres_count / total_sexo) * 100\n",
    "mujeres_percentage = (mujeres_count / total_sexo) * 100\n",
    "invalid_sexo_percentage = (sindatos_count / total_sexo) * 100\n",
    "\n",
    "print(f\"Total registros: {total_sexo}\")\n",
    "print(f\"Hombres: {hombres_count} ({hombres_percentage:.2f}%)\")\n",
    "print(f\"Mujeres: {mujeres_count} ({mujeres_percentage:.2f}%)\")\n",
    "print(f\"Valores no válidos: {sindatos_count} ({invalid_sexo_percentage:.2f}%)\")"
   ]
  },
  {
   "cell_type": "code",
   "execution_count": 21,
   "metadata": {},
   "outputs": [
    {
     "name": "stdout",
     "output_type": "stream",
     "text": [
      "Porcentaje de hombres (válidos): 75.20%\n",
      "Porcentaje de mujeres (válidos): 24.80%\n"
     ]
    }
   ],
   "source": [
    "total_valido = total_sexo - sindatos_count\n",
    "\n",
    "hombres_percentage_valido = (hombres_count / total_valido) * 100\n",
    "mujeres_percentage_valido = (mujeres_count / total_valido) * 100\n",
    "\n",
    "print(f\"Porcentaje de hombres (válidos): {hombres_percentage_valido:.2f}%\")\n",
    "print(f\"Porcentaje de mujeres (válidos): {mujeres_percentage_valido:.2f}%\")"
   ]
  },
  {
   "cell_type": "markdown",
   "metadata": {},
   "source": [
    "### Primer filtro de variables\n",
    "\n",
    "Vamos a descartar aquellas variable sque tengan muchos datos faltantes tanto Sin Datos como Nan si son numericas.\n",
    "\n",
    "Para ello vamos a ver el porcentaje de datos vacios tiene cada columna, si hay alguna que tiene menos del 60% la vamos a quitar con alguna excepcion"
   ]
  },
  {
   "cell_type": "code",
   "execution_count": 22,
   "metadata": {},
   "outputs": [
    {
     "data": {
      "text/plain": [
       "Index(['IdAhogado', 'Fecha', 'Localidad', 'Provincia', 'Titular', 'Noticia',\n",
       "       'Enlace1', 'Enlace2', 'Enlace3', 'Enlace4', 'Enlace5', 'CCAA', 'Hora',\n",
       "       'Vigilancia', 'Latitud', 'Longitud', 'Maps', 'Actividad', 'Deteccion',\n",
       "       'Intervencion', 'Localizacion', 'Riesgo', 'Campo1', 'Campo2', 'Tweet',\n",
       "       'IdPersona', 'Sexo', 'Edad', 'Nacionalidad', 'Origen', 'Causa',\n",
       "       'FactorRiesgo', 'Antecedentes', 'PrimerInterviniente',\n",
       "       'MaterialRescate', 'Extraccion', 'TipoAhogamiento', 'Reanimacion',\n",
       "       'Pronostico', 'Notas'],\n",
       "      dtype='object')"
      ]
     },
     "execution_count": 22,
     "metadata": {},
     "output_type": "execute_result"
    }
   ],
   "source": [
    "data.columns"
   ]
  },
  {
   "cell_type": "markdown",
   "metadata": {},
   "source": [
    "De primeras ya vamos a quitar 'Titular', 'Noticia',\n",
    "       'Enlace1', 'Enlace2', 'Enlace3', 'Enlace4', 'Enlace5', 'Latitud', 'Longitud', 'Maps' 'Tweet', 'Notas'."
   ]
  },
  {
   "cell_type": "code",
   "execution_count": 18,
   "metadata": {},
   "outputs": [],
   "source": [
    "columnas_a_eliminar = ['Titular', 'Noticia', 'Enlace1', 'Enlace2', 'Enlace3',\n",
    "                        'Enlace4', 'Enlace5', 'Latitud', 'Longitud', 'Maps',\n",
    "                        'Tweet', 'Notas', 'Campo1', 'Campo2',]\n",
    "data2 = data2.drop(columnas_a_eliminar, axis=1)\n"
   ]
  },
  {
   "cell_type": "code",
   "execution_count": 19,
   "metadata": {},
   "outputs": [
    {
     "data": {
      "text/plain": [
       "Index(['IdAhogado', 'Fecha', 'Localidad', 'Provincia', 'CCAA', 'Hora',\n",
       "       'Vigilancia', 'Actividad', 'Deteccion', 'Intervencion', 'Localizacion',\n",
       "       'Riesgo', 'IdPersona', 'Sexo', 'Edad', 'Nacionalidad', 'Origen',\n",
       "       'Causa', 'FactorRiesgo', 'Antecedentes', 'PrimerInterviniente',\n",
       "       'MaterialRescate', 'Extraccion', 'TipoAhogamiento', 'Reanimacion',\n",
       "       'Pronostico'],\n",
       "      dtype='object')"
      ]
     },
     "execution_count": 19,
     "metadata": {},
     "output_type": "execute_result"
    }
   ],
   "source": [
    "data2.columns"
   ]
  },
  {
   "cell_type": "code",
   "execution_count": 20,
   "metadata": {},
   "outputs": [
    {
     "name": "stdout",
     "output_type": "stream",
     "text": [
      "Todas las columnas con su % de faltantes:\n",
      "             Antecedentes  MaterialRescate  FactorRiesgo  Riesgo  Origen  \\\n",
      "% faltantes          97.3             95.0          60.3    60.0    45.5   \n",
      "\n",
      "             Causa  Edad  Hora  Sexo  Actividad  PrimerInterviniente  \\\n",
      "% faltantes   27.3  20.3  20.0   5.3        3.9                  2.8   \n",
      "\n",
      "             Reanimacion  Deteccion  Extraccion  Nacionalidad  Intervencion  \\\n",
      "% faltantes          2.4        1.5         1.3           1.2           0.7   \n",
      "\n",
      "             TipoAhogamiento  Vigilancia  Pronostico  Localizacion  Provincia  \\\n",
      "% faltantes              0.3         0.2         0.1           0.0        0.0   \n",
      "\n",
      "             Fecha  IdAhogado  Localidad  CCAA  IdPersona  \n",
      "% faltantes    0.0        0.0        0.0   0.0        0.0   \n",
      "\n"
     ]
    },
    {
     "name": "stderr",
     "output_type": "stream",
     "text": [
      "C:\\Users\\Pablo\\AppData\\Local\\Temp\\ipykernel_7424\\357065658.py:11: DeprecationWarning: is_categorical_dtype is deprecated and will be removed in a future version. Use isinstance(dtype, pd.CategoricalDtype) instead\n",
      "  if pd.api.types.is_categorical_dtype(data2[col]) or data2[col].dtype == object:\n"
     ]
    }
   ],
   "source": [
    "columnas = data2.columns\n",
    "total_filas = len(data2)\n",
    "\n",
    "porcentaje_faltantes = {}\n",
    "\n",
    "for col in columnas:\n",
    "    n_nans = data2[col].isna().sum()\n",
    "    \n",
    "    if pd.api.types.is_categorical_dtype(data2[col]) or data2[col].dtype == object:\n",
    "        n_sin_datos = (data2[col] == \"Sin datos\").sum() + (data2[col] == \"Sin Datos\").sum()\n",
    "    else:\n",
    "        n_sin_datos = 0\n",
    "    \n",
    "    n_faltantes = n_nans + n_sin_datos\n",
    "    \n",
    "    porcentaje = (n_faltantes / total_filas) * 100\n",
    "    porcentaje_faltantes[col] = porcentaje\n",
    "\n",
    "faltantes_df = pd.DataFrame.from_dict(\n",
    "    porcentaje_faltantes, orient='index', columns=['% faltantes']\n",
    ").sort_values('% faltantes', ascending=False)\n",
    "\n",
    "pd.set_option('display.max_columns', None)\n",
    "\n",
    "print(\"Todas las columnas con su % de faltantes:\")\n",
    "faltantes_transposed = faltantes_df.T.round(1)\n",
    "print(faltantes_transposed, \"\\n\")\n",
    "\n",
    "pd.reset_option('display.max_columns')\n"
   ]
  },
  {
   "cell_type": "markdown",
   "metadata": {},
   "source": [
    "De aqui deducimos que las siguientes variables no son validas y se van a eliminar del estudio de primeras:\n",
    "\n",
    "- Antecedentes           97.296592\n",
    "\n",
    "- MaterialRescate        95.001739\n",
    "\n",
    "\n",
    "\n",
    "- Origen                 45.479833\n",
    "\n",
    "No obstante dejamos\n",
    "\n",
    "- FactorRiesgo           60.344228\n",
    "\n",
    "- Riesgo                 59.953060\n",
    "\n",
    "Ya que nos dan buenos resultados\n",
    "\n"
   ]
  },
  {
   "cell_type": "code",
   "execution_count": 21,
   "metadata": {},
   "outputs": [],
   "source": [
    "columnas_a_eliminar = ['Antecedentes', 'MaterialRescate', 'Origen',]\n",
    "data2 = data2.drop(columnas_a_eliminar, axis=1)"
   ]
  },
  {
   "cell_type": "code",
   "execution_count": 22,
   "metadata": {},
   "outputs": [
    {
     "data": {
      "text/plain": [
       "Index(['IdAhogado', 'Fecha', 'Localidad', 'Provincia', 'CCAA', 'Hora',\n",
       "       'Vigilancia', 'Actividad', 'Deteccion', 'Intervencion', 'Localizacion',\n",
       "       'Riesgo', 'IdPersona', 'Sexo', 'Edad', 'Nacionalidad', 'Causa',\n",
       "       'FactorRiesgo', 'PrimerInterviniente', 'Extraccion', 'TipoAhogamiento',\n",
       "       'Reanimacion', 'Pronostico'],\n",
       "      dtype='object')"
      ]
     },
     "execution_count": 22,
     "metadata": {},
     "output_type": "execute_result"
    }
   ],
   "source": [
    "data2.columns"
   ]
  },
  {
   "cell_type": "markdown",
   "metadata": {},
   "source": [
    "* Discretizar edad"
   ]
  },
  {
   "cell_type": "code",
   "execution_count": 23,
   "metadata": {},
   "outputs": [],
   "source": [
    "import matplotlib.pyplot as plt"
   ]
  },
  {
   "cell_type": "code",
   "execution_count": 24,
   "metadata": {},
   "outputs": [
    {
     "data": {
      "image/png": "[encoded data removed]",
      "text/plain": [
       "<Figure size 1000x600 with 1 Axes>"
      ]
     },
     "metadata": {},
     "output_type": "display_data"
    }
   ],
   "source": [
    "\n",
    "plt.figure(figsize=(10, 6))\n",
    "data2['Edad'].dropna().plot(kind='hist', bins=14, color='skyblue', edgecolor='black')\n",
    "plt.title('Distribución de la Edad', fontsize=16)\n",
    "plt.xlabel('Edad', fontsize=14)\n",
    "plt.ylabel('Frecuencia', fontsize=14)\n",
    "plt.grid(axis='y', linestyle='--', alpha=0.7)\n",
    "plt.show()"
   ]
  },
  {
   "cell_type": "markdown",
   "metadata": {},
   "source": [
    "Como los valroes de la edad no siguen una tendencia totalmente uniforme ya que hay 4-5 picos de mas casos y luego las personas ancianas disminuyen y los niños tambien son bajos no vamos a usar la funcion uniform de Kbins discretizer.\n",
    "\n",
    "\n",
    "Aqui tenemos que elegir entere \"quantile\" o \"kmeans\"\n",
    "\n",
    "\"quantile\": es un algoritmo que reparte los intervalor con el mismo numero de datos en todos mas o menos, de este modo no se queda ningun intervalo desproporcionado\n",
    "    Ventajas:  Grupos equilibrados, Ideal para visualización y análisis comparativos, \n",
    "    Desventajas: Intervalos no naturales, puede romper relaciones lógicas entre grupos de edad si los cortes no respetan significados reales (niños, adultos, mayores...).\n",
    "\n",
    "\"kmeans\": algoritmo kmenas sobre los numeros d edad. Encuentra los centros(medias) y asigna una edad a un centroide, los ordena\n",
    "    Ventajas\": Detecta agrupaciones reales en la edad si existen (por ejemplo, muchos       casos entre 18–25 y otro pico en 65–75).\n",
    "        Tiene en cuenta la forma de la distribución, no sólo la cantidad.\n",
    "    Desventajas: Bins desproporciandos"
   ]
  },
  {
   "cell_type": "markdown",
   "metadata": {},
   "source": [
    "Como no queremos que se nos quede nada desproporcioando usamos QUANTILE\n"
   ]
  },
  {
   "cell_type": "code",
   "execution_count": 25,
   "metadata": {},
   "outputs": [],
   "source": [
    "from sklearn.preprocessing import KBinsDiscretizer"
   ]
  },
  {
   "cell_type": "code",
   "execution_count": 26,
   "metadata": {},
   "outputs": [
    {
     "data": {
      "text/html": [
       "<div>\n",
       "<style scoped>\n",
       "    .dataframe tbody tr th:only-of-type {\n",
       "        vertical-align: middle;\n",
       "    }\n",
       "\n",
       "    .dataframe tbody tr th {\n",
       "        vertical-align: top;\n",
       "    }\n",
       "\n",
       "    .dataframe thead th {\n",
       "        text-align: right;\n",
       "    }\n",
       "</style>\n",
       "<table border=\"1\" class=\"dataframe\">\n",
       "  <thead>\n",
       "    <tr style=\"text-align: right;\">\n",
       "      <th></th>\n",
       "      <th>Edad</th>\n",
       "    </tr>\n",
       "  </thead>\n",
       "  <tbody>\n",
       "    <tr>\n",
       "      <th>0</th>\n",
       "      <td>19.0</td>\n",
       "    </tr>\n",
       "    <tr>\n",
       "      <th>1</th>\n",
       "      <td>59.0</td>\n",
       "    </tr>\n",
       "    <tr>\n",
       "      <th>2</th>\n",
       "      <td>44.0</td>\n",
       "    </tr>\n",
       "    <tr>\n",
       "      <th>3</th>\n",
       "      <td>67.0</td>\n",
       "    </tr>\n",
       "    <tr>\n",
       "      <th>4</th>\n",
       "      <td>67.0</td>\n",
       "    </tr>\n",
       "    <tr>\n",
       "      <th>...</th>\n",
       "      <td>...</td>\n",
       "    </tr>\n",
       "    <tr>\n",
       "      <th>11499</th>\n",
       "      <td>50.0</td>\n",
       "    </tr>\n",
       "    <tr>\n",
       "      <th>11500</th>\n",
       "      <td>NaN</td>\n",
       "    </tr>\n",
       "    <tr>\n",
       "      <th>11501</th>\n",
       "      <td>86.0</td>\n",
       "    </tr>\n",
       "    <tr>\n",
       "      <th>11502</th>\n",
       "      <td>84.0</td>\n",
       "    </tr>\n",
       "    <tr>\n",
       "      <th>11503</th>\n",
       "      <td>50.0</td>\n",
       "    </tr>\n",
       "  </tbody>\n",
       "</table>\n",
       "<p>11504 rows × 1 columns</p>\n",
       "</div>"
      ],
      "text/plain": [
       "       Edad\n",
       "0      19.0\n",
       "1      59.0\n",
       "2      44.0\n",
       "3      67.0\n",
       "4      67.0\n",
       "...     ...\n",
       "11499  50.0\n",
       "11500   NaN\n",
       "11501  86.0\n",
       "11502  84.0\n",
       "11503  50.0\n",
       "\n",
       "[11504 rows x 1 columns]"
      ]
     },
     "execution_count": 26,
     "metadata": {},
     "output_type": "execute_result"
    }
   ],
   "source": [
    "data2[['Edad']]"
   ]
  },
  {
   "cell_type": "markdown",
   "metadata": {},
   "source": [
    "Importante eliminar los que no son validos, son NAN"
   ]
  },
  {
   "cell_type": "markdown",
   "metadata": {},
   "source": [
    "##### Suponemos que discretizamos en 3 bins"
   ]
  },
  {
   "cell_type": "code",
   "execution_count": 27,
   "metadata": {},
   "outputs": [
    {
     "name": "stdout",
     "output_type": "stream",
     "text": [
      "[array([  0.,  32.,  60., 101.])]\n",
      "Dimensiones de kbin.bin_edges_: (1,)\n"
     ]
    }
   ],
   "source": [
    "numero_bins = 3\n",
    "col_edad = data2[['Edad']].dropna()\n",
    "\n",
    "kbin = KBinsDiscretizer(n_bins=numero_bins, encode='ordinal', strategy='quantile')\n",
    "_= kbin.fit_transform(col_edad).astype(int)\n",
    "\n",
    "print(kbin.bin_edges_)\n",
    "print(f\"Dimensiones de kbin.bin_edges_: {kbin.bin_edges_.shape}\")\n"
   ]
  },
  {
   "cell_type": "code",
   "execution_count": 28,
   "metadata": {},
   "outputs": [
    {
     "name": "stdout",
     "output_type": "stream",
     "text": [
      "int1 = 32\n",
      "int2 = 60\n",
      "int3 = 101\n"
     ]
    }
   ],
   "source": [
    "\n",
    "for i in range(1, len(kbin.bin_edges_[0])):\n",
    "    globals()[f'int{i}'] = round(kbin.bin_edges_[0][i])\n",
    "    print(f'int{i} = {globals()[f\"int{i}\"]}')\n",
    "\n"
   ]
  },
  {
   "cell_type": "code",
   "execution_count": 29,
   "metadata": {},
   "outputs": [
    {
     "name": "stdout",
     "output_type": "stream",
     "text": [
      "   Edad   Edad_discretizada\n",
      "0  19.0    Menor de 32 años\n",
      "1  59.0  Entre 32 y 60 años\n",
      "2  44.0  Entre 32 y 60 años\n",
      "3  67.0    Mayor de 60 años\n",
      "4  67.0    Mayor de 60 años\n"
     ]
    }
   ],
   "source": [
    "bins = [0]\n",
    "for i in range(1, len(kbin.bin_edges_[0])):\n",
    "    bins.append(round(kbin.bin_edges_[0][i]))\n",
    "        \n",
    "labels = [f'Menor de {bins[1]} años']  \n",
    "labels += [f'Entre {bins[i]} y {bins[i+1]} años' for i in range(1, len(bins) - 2)]\n",
    "labels.append(f'Mayor de {bins[-2]} años') \n",
    "\n",
    "data2['Edad_discretizada'] = pd.cut(data2['Edad'], bins=bins, labels=labels)\n",
    "data2['Edad_discretizada'] = data2['Edad_discretizada'].cat.add_categories(['Sin datos']).fillna('Sin datos')\n",
    "print(data2[['Edad', 'Edad_discretizada']].head())"
   ]
  },
  {
   "cell_type": "code",
   "execution_count": 30,
   "metadata": {},
   "outputs": [
    {
     "data": {
      "text/plain": [
       "0        19.0\n",
       "1        59.0\n",
       "2        44.0\n",
       "3        67.0\n",
       "4        67.0\n",
       "         ... \n",
       "11499    50.0\n",
       "11500     NaN\n",
       "11501    86.0\n",
       "11502    84.0\n",
       "11503    50.0\n",
       "Name: Edad, Length: 11504, dtype: float64"
      ]
     },
     "execution_count": 30,
     "metadata": {},
     "output_type": "execute_result"
    }
   ],
   "source": [
    "data2['Edad'] \n"
   ]
  },
  {
   "cell_type": "code",
   "execution_count": 31,
   "metadata": {},
   "outputs": [
    {
     "data": {
      "text/plain": [
       "0          Menor de 32 años\n",
       "1        Entre 32 y 60 años\n",
       "2        Entre 32 y 60 años\n",
       "3          Mayor de 60 años\n",
       "4          Mayor de 60 años\n",
       "                ...        \n",
       "11499    Entre 32 y 60 años\n",
       "11500             Sin datos\n",
       "11501      Mayor de 60 años\n",
       "11502      Mayor de 60 años\n",
       "11503    Entre 32 y 60 años\n",
       "Name: Edad_discretizada, Length: 11504, dtype: category\n",
       "Categories (4, object): ['Menor de 32 años' < 'Entre 32 y 60 años' < 'Mayor de 60 años' < 'Sin datos']"
      ]
     },
     "execution_count": 31,
     "metadata": {},
     "output_type": "execute_result"
    }
   ],
   "source": [
    "data2['Edad_discretizada']"
   ]
  },
  {
   "cell_type": "code",
   "execution_count": 42,
   "metadata": {},
   "outputs": [
    {
     "data": {
      "image/png": "[encoded data removed]",
      "text/plain": [
       "<Figure size 1000x600 with 1 Axes>"
      ]
     },
     "metadata": {},
     "output_type": "display_data"
    }
   ],
   "source": [
    "import matplotlib.pyplot as plt\n",
    "\n",
    "plt.figure(figsize=(10, 6))\n",
    "data2['Edad_discretizada'].value_counts().sort_index().plot(\n",
    "    kind='bar',\n",
    "    color='skyblue',\n",
    "    edgecolor='black'\n",
    ")\n",
    "\n",
    "plt.xlabel('Categoría de Edad', fontsize=14)\n",
    "plt.ylabel('Frecuencia', fontsize=14)\n",
    "plt.xticks(rotation=0)\n",
    "plt.grid(axis='y', linestyle='--', alpha=0.7)\n",
    "\n",
    "plt.savefig('histograma_edad_discretizada.png', bbox_inches='tight', dpi=150)\n",
    "plt.show()\n",
    "\n"
   ]
  },
  {
   "cell_type": "markdown",
   "metadata": {},
   "source": [
    "* Vemos de cada tipo de edad que porcentaje de hombres y de muejres hay"
   ]
  },
  {
   "cell_type": "code",
   "execution_count": 38,
   "metadata": {},
   "outputs": [
    {
     "name": "stderr",
     "output_type": "stream",
     "text": [
      "C:\\Users\\Pablo\\AppData\\Local\\Temp\\ipykernel_19772\\2229921576.py:2: FutureWarning: The default of observed=False is deprecated and will be changed to True in a future version of pandas. Pass observed=False to retain current behavior or observed=True to adopt the future default and silence this warning.\n",
      "  grouped = data2.groupby(['Edad_discretizada', 'Sexo']).size().reset_index(name='count')\n"
     ]
    },
    {
     "data": {
      "image/png": "[encoded data removed]",
      "text/plain": [
       "<Figure size 1000x800 with 1 Axes>"
      ]
     },
     "metadata": {},
     "output_type": "display_data"
    }
   ],
   "source": [
    "\n",
    "grouped = data2.groupby(['Edad_discretizada', 'Sexo']).size().reset_index(name='count')\n",
    "\n",
    "outer_labels = grouped['Edad_discretizada'].unique()\n",
    "outer_sizes = [grouped[grouped['Edad_discretizada'] == age]['count'].sum() for age in outer_labels]\n",
    "outer_colors = ['#000080', '#3CB371', '#F5A623', '#B22222'] \n",
    "\n",
    "inner_sizes = []\n",
    "inner_colors = []\n",
    "inner_labels = []\n",
    "\n",
    "color_hombre = '#B0E0E6' \n",
    "color_mujer = '#FFCCE5'  \n",
    "color_sin_datos = '#FFFFFF'  \n",
    "\n",
    "for age in outer_labels:\n",
    "    subdf = grouped[grouped['Edad_discretizada'] == age]\n",
    "    for _, row in subdf.iterrows():\n",
    "        inner_sizes.append(row['count'])\n",
    "        if row['Sexo'] == 'Hombre':\n",
    "            inner_colors.append(color_hombre)\n",
    "        elif row['Sexo'] == 'Mujer':\n",
    "            inner_colors.append(color_mujer) \n",
    "        else:\n",
    "            inner_colors.append(color_sin_datos) \n",
    "        inner_labels.append(row['Sexo'])\n",
    "\n",
    "fig, ax = plt.subplots(figsize=(10, 8))\n",
    "\n",
    "wedges1, texts1, autotexts1 = ax.pie(\n",
    "    outer_sizes,\n",
    "    radius=1,\n",
    "    labels=outer_labels,\n",
    "    labeldistance=1.05,\n",
    "    colors=outer_colors,\n",
    "    wedgeprops=dict(width=0.3, edgecolor='w'),\n",
    "    autopct='%1.1f%%',\n",
    "    pctdistance=0.85,\n",
    "    textprops={'fontsize': 10}\n",
    ")\n",
    "\n",
    "wedges2, _, autotexts2 = ax.pie(\n",
    "    inner_sizes,\n",
    "    radius=0.7,\n",
    "    labels=['']*len(inner_labels), \n",
    "    colors=inner_colors,\n",
    "    wedgeprops=dict(width=0.3, edgecolor='w'),\n",
    "    autopct='%1.1f%%',\n",
    "    pctdistance=0.75,\n",
    "    textprops={'fontsize': 8}\n",
    ")\n",
    "\n",
    "legend_labels = ['Hombre', 'Mujer', 'Desconocido']\n",
    "legend_colors = [color_hombre, color_mujer, color_sin_datos]\n",
    "\n",
    "for i, (label, color) in enumerate(zip(legend_labels, legend_colors)):\n",
    "    ax.text(\n",
    "        0, 0.12 - i * 0.1,\n",
    "        label,\n",
    "        ha='center',\n",
    "        va='center',\n",
    "        fontsize=10,\n",
    "        bbox=dict(facecolor=color, edgecolor='gray', boxstyle='round,pad=0.3')\n",
    "    )\n",
    "\n",
    "plt.title('Distribución de Edad y Sexo', fontsize=16)\n",
    "plt.tight_layout()\n",
    "plt.show()\n"
   ]
  },
  {
   "cell_type": "markdown",
   "metadata": {},
   "source": [
    "* Ahora vamos a ver si hay alguna correlacion entre la columna Edad y las demas columnas"
   ]
  },
  {
   "cell_type": "markdown",
   "metadata": {},
   "source": [
    "['IdAhogado',\n",
    " 'Fecha',\n",
    " 'Localidad',\n",
    " 'Provincia',\n",
    " 'Titular',\n",
    " 'Noticia',\n",
    " 'Enlace1',\n",
    " 'Enlace2',\n",
    " 'Enlace3',\n",
    " 'Enlace4',\n",
    " 'Enlace5',\n",
    " 'CCAA',\n",
    " 'Hora',\n",
    " 'Vigilancia',\n",
    " 'Latitud',\n",
    " 'Longitud',\n",
    " 'Maps',\n",
    " 'Actividad',\n",
    " 'Deteccion',\n",
    " 'Intervencion',\n",
    " 'Localizacion',\n",
    " 'Riesgo',\n",
    " 'Campo1',\n",
    " 'Campo2',\n",
    " 'Tweet',\n",
    " 'IdPersona',\n",
    " 'Sexo',\n",
    " 'Edad',\n",
    " 'Nacionalidad',\n",
    " 'Origen',\n",
    " 'Causa',\n",
    " 'FactorRiesgo',\n",
    " 'Antecedentes',\n",
    " 'PrimerInterviniente',\n",
    " 'MaterialRescate',\n",
    " 'Extraccion',\n",
    " 'TipoAhogamiento',\n",
    " 'Reanimacion',\n",
    " 'Pronostico',\n",
    " 'Notas',\n",
    " 'edad_bin_kmeans',\n",
    " 'Edad_discretizada']"
   ]
  },
  {
   "cell_type": "code",
   "execution_count": 39,
   "metadata": {
    "vscode": {
     "languageId": "ruby"
    }
   },
   "outputs": [
    {
     "name": "stdout",
     "output_type": "stream",
     "text": [
      "Dimensiones de data2: (11504, 24)\n"
     ]
    }
   ],
   "source": [
    "\n",
    "print(f\"Dimensiones de data2: {data2.shape}\")"
   ]
  },
  {
   "cell_type": "markdown",
   "metadata": {},
   "source": [
    "para la columna de la edad discretizada"
   ]
  },
  {
   "cell_type": "code",
   "execution_count": 40,
   "metadata": {},
   "outputs": [],
   "source": [
    "from scipy.stats import chi2_contingency"
   ]
  },
  {
   "cell_type": "code",
   "execution_count": 41,
   "metadata": {},
   "outputs": [
    {
     "name": "stdout",
     "output_type": "stream",
     "text": [
      "Index(['Localidad', 'Provincia', 'CCAA', 'Vigilancia', 'Actividad',\n",
      "       'Deteccion', 'Intervencion', 'Localizacion', 'Riesgo', 'Sexo',\n",
      "       'Nacionalidad', 'Causa', 'FactorRiesgo', 'PrimerInterviniente',\n",
      "       'Extraccion', 'TipoAhogamiento', 'Reanimacion', 'Pronostico',\n",
      "       'Edad_discretizada'],\n",
      "      dtype='object')\n"
     ]
    }
   ],
   "source": [
    "columnas_categoricas =data2.select_dtypes(include='category').columns\n",
    "print(columnas_categoricas)"
   ]
  },
  {
   "cell_type": "code",
   "execution_count": 42,
   "metadata": {},
   "outputs": [
    {
     "name": "stdout",
     "output_type": "stream",
     "text": [
      "Tipos de relaciones con la columna 'Edad_discretizada': \n",
      "\n",
      "Relacion fuerte (Cramér's V > 0.6):\n",
      "Columna                   Cramér's V\n",
      "Edad_discretizada         1.0000\n",
      "\n",
      "Relacion moderada (0.3 < Cramér's V < 0.6):\n",
      "Columna                   Cramér's V\n",
      "FactorRiesgo              0.5112\n",
      "Localidad                 0.3826\n",
      "Causa                     0.3082\n",
      "TipoAhogamiento           0.3033\n",
      "\n",
      "Relacion fuerte (Cramér's V < 0.3):\n",
      "Columna                   Cramér's V\n",
      "Pronostico                0.2878\n",
      "Sexo                      0.2869\n",
      "Reanimacion               0.2746\n",
      "Actividad                 0.2388\n",
      "Localizacion              0.2068\n",
      "Intervencion              0.1997\n",
      "Extraccion                0.1962\n",
      "Riesgo                    0.1806\n",
      "Provincia                 0.1427\n",
      "Nacionalidad              0.1388\n",
      "Deteccion                 0.1277\n",
      "PrimerInterviniente       0.1248\n",
      "CCAA                      0.1133\n",
      "Vigilancia                0.0652\n"
     ]
    }
   ],
   "source": [
    "import numpy as np\n",
    "\n",
    "\n",
    "def cramers_v(tabla):\n",
    "    chi2, p, dof, expected = chi2_contingency(tabla)\n",
    "    n = tabla.sum().sum()\n",
    "    phi2 = chi2/n\n",
    "    r, k = tabla.shape\n",
    "    phi2corr = max(0, phi2 - ((k-1)*(r-1))/(n-1))    \n",
    "    rcorr = r - ((r-1)**2)/(n-1)\n",
    "    kcorr = k - ((k-1)**2)/(n-1)\n",
    "    return np.sqrt(phi2corr / min((kcorr-1), (rcorr-1)))\n",
    "\n",
    "cramers_v_resultados = {}\n",
    "\n",
    "for col in columnas_categoricas:\n",
    "    tabla = pd.crosstab(data2['Edad_discretizada'], data2[col])\n",
    "    if tabla.shape[0] > 1 and tabla.shape[1] > 1:\n",
    "        v = cramers_v(tabla)\n",
    "        cramers_v_resultados[col] = v\n",
    "\n",
    "cramers_v_ordenados = dict(sorted(cramers_v_resultados.items(), key=lambda item: item[1], reverse=True))\n",
    "\n",
    "umbral_fuerte = 0.6\n",
    "umbral_moderado = 0.3\n",
    "\n",
    "relacion_fuerte = {col: v for col, v in cramers_v_ordenados.items() if v > umbral_fuerte}\n",
    "relacion_moderada = {col: v for col, v in cramers_v_ordenados.items() if umbral_moderado < v <= umbral_fuerte}\n",
    "relacion_debil = {col: v for col, v in cramers_v_ordenados.items() if v < umbral_moderado}\n",
    "\n",
    "print(\"Tipos de relaciones con la columna 'Edad_discretizada': \\n\")\n",
    "\n",
    "print(f\"Relacion fuerte (Cramér's V > {umbral_fuerte}):\")\n",
    "print(\"{:<25} {:<10}\".format(\"Columna\", \"Cramér's V\"))\n",
    "for col, v in relacion_fuerte.items():\n",
    "    print(\"{:<25} {:.4f}\".format(col, v))\n",
    "\n",
    "print(f\"\\nRelacion moderada ({umbral_moderado} < Cramér's V < {umbral_fuerte}):\")\n",
    "print(\"{:<25} {:<10}\".format(\"Columna\", \"Cramér's V\"))\n",
    "for col, v in relacion_moderada.items():\n",
    "    print(\"{:<25} {:.4f}\".format(col, v))\n",
    "\n",
    "print(f\"\\nRelacion fuerte (Cramér's V < {umbral_moderado}):\")\n",
    "print(\"{:<25} {:<10}\".format(\"Columna\", \"Cramér's V\"))\n",
    "for col, v in relacion_debil.items():\n",
    "    print(\"{:<25} {:.4f}\".format(col, v))\n"
   ]
  },
  {
   "cell_type": "markdown",
   "metadata": {},
   "source": [
    "Ahora vamos a correlacionar todas las columnas con todas para ver si a parte de Edad hay alguna mas que tiene relacion entre ellas\n"
   ]
  },
  {
   "cell_type": "code",
   "execution_count": 44,
   "metadata": {},
   "outputs": [
    {
     "ename": "KeyboardInterrupt",
     "evalue": "",
     "output_type": "error",
     "traceback": [
      "\u001b[1;31m---------------------------------------------------------------------------\u001b[0m",
      "\u001b[1;31mKeyboardInterrupt\u001b[0m                         Traceback (most recent call last)",
      "Cell \u001b[1;32mIn[44], line 21\u001b[0m\n\u001b[0;32m     19\u001b[0m \u001b[38;5;28;01mfor\u001b[39;00m col1 \u001b[38;5;129;01min\u001b[39;00m columnas_categoricas:\n\u001b[0;32m     20\u001b[0m     \u001b[38;5;28;01mfor\u001b[39;00m col2 \u001b[38;5;129;01min\u001b[39;00m columnas_categoricas:\n\u001b[1;32m---> 21\u001b[0m         tabla \u001b[38;5;241m=\u001b[39m \u001b[43mpd\u001b[49m\u001b[38;5;241;43m.\u001b[39;49m\u001b[43mcrosstab\u001b[49m\u001b[43m(\u001b[49m\u001b[43mdata2\u001b[49m\u001b[43m[\u001b[49m\u001b[43mcol1\u001b[49m\u001b[43m]\u001b[49m\u001b[43m,\u001b[49m\u001b[43m \u001b[49m\u001b[43mdata2\u001b[49m\u001b[43m[\u001b[49m\u001b[43mcol2\u001b[49m\u001b[43m]\u001b[49m\u001b[43m)\u001b[49m\n\u001b[0;32m     22\u001b[0m         \u001b[38;5;28;01mif\u001b[39;00m tabla\u001b[38;5;241m.\u001b[39mshape[\u001b[38;5;241m0\u001b[39m] \u001b[38;5;241m>\u001b[39m \u001b[38;5;241m1\u001b[39m \u001b[38;5;129;01mand\u001b[39;00m tabla\u001b[38;5;241m.\u001b[39mshape[\u001b[38;5;241m1\u001b[39m] \u001b[38;5;241m>\u001b[39m \u001b[38;5;241m1\u001b[39m:\n\u001b[0;32m     23\u001b[0m             relaciones\u001b[38;5;241m.\u001b[39mloc[col1, col2] \u001b[38;5;241m=\u001b[39m cramers_v(tabla)\n",
      "File \u001b[1;32m~\\AppData\\Roaming\\Python\\Python313\\site-packages\\pandas\\core\\reshape\\pivot.py:728\u001b[0m, in \u001b[0;36mcrosstab\u001b[1;34m(index, columns, values, rownames, colnames, aggfunc, margins, margins_name, dropna, normalize)\u001b[0m\n\u001b[0;32m    724\u001b[0m     kwargs \u001b[38;5;241m=\u001b[39m {\u001b[38;5;124m\"\u001b[39m\u001b[38;5;124maggfunc\u001b[39m\u001b[38;5;124m\"\u001b[39m: aggfunc}\n\u001b[0;32m    726\u001b[0m \u001b[38;5;66;03m# error: Argument 7 to \"pivot_table\" of \"DataFrame\" has incompatible type\u001b[39;00m\n\u001b[0;32m    727\u001b[0m \u001b[38;5;66;03m# \"**Dict[str, object]\"; expected \"Union[...]\"\u001b[39;00m\n\u001b[1;32m--> 728\u001b[0m table \u001b[38;5;241m=\u001b[39m \u001b[43mdf\u001b[49m\u001b[38;5;241;43m.\u001b[39;49m\u001b[43mpivot_table\u001b[49m\u001b[43m(\u001b[49m\n\u001b[0;32m    729\u001b[0m \u001b[43m    \u001b[49m\u001b[38;5;124;43m\"\u001b[39;49m\u001b[38;5;124;43m__dummy__\u001b[39;49m\u001b[38;5;124;43m\"\u001b[39;49m\u001b[43m,\u001b[49m\n\u001b[0;32m    730\u001b[0m \u001b[43m    \u001b[49m\u001b[43mindex\u001b[49m\u001b[38;5;241;43m=\u001b[39;49m\u001b[43munique_rownames\u001b[49m\u001b[43m,\u001b[49m\n\u001b[0;32m    731\u001b[0m \u001b[43m    \u001b[49m\u001b[43mcolumns\u001b[49m\u001b[38;5;241;43m=\u001b[39;49m\u001b[43munique_colnames\u001b[49m\u001b[43m,\u001b[49m\n\u001b[0;32m    732\u001b[0m \u001b[43m    \u001b[49m\u001b[43mmargins\u001b[49m\u001b[38;5;241;43m=\u001b[39;49m\u001b[43mmargins\u001b[49m\u001b[43m,\u001b[49m\n\u001b[0;32m    733\u001b[0m \u001b[43m    \u001b[49m\u001b[43mmargins_name\u001b[49m\u001b[38;5;241;43m=\u001b[39;49m\u001b[43mmargins_name\u001b[49m\u001b[43m,\u001b[49m\n\u001b[0;32m    734\u001b[0m \u001b[43m    \u001b[49m\u001b[43mdropna\u001b[49m\u001b[38;5;241;43m=\u001b[39;49m\u001b[43mdropna\u001b[49m\u001b[43m,\u001b[49m\n\u001b[0;32m    735\u001b[0m \u001b[43m    \u001b[49m\u001b[43mobserved\u001b[49m\u001b[38;5;241;43m=\u001b[39;49m\u001b[38;5;28;43;01mFalse\u001b[39;49;00m\u001b[43m,\u001b[49m\n\u001b[0;32m    736\u001b[0m \u001b[43m    \u001b[49m\u001b[38;5;241;43m*\u001b[39;49m\u001b[38;5;241;43m*\u001b[39;49m\u001b[43mkwargs\u001b[49m\u001b[43m,\u001b[49m\u001b[43m  \u001b[49m\u001b[38;5;66;43;03m# type: ignore[arg-type]\u001b[39;49;00m\n\u001b[0;32m    737\u001b[0m \u001b[43m\u001b[49m\u001b[43m)\u001b[49m\n\u001b[0;32m    739\u001b[0m \u001b[38;5;66;03m# Post-process\u001b[39;00m\n\u001b[0;32m    740\u001b[0m \u001b[38;5;28;01mif\u001b[39;00m normalize \u001b[38;5;129;01mis\u001b[39;00m \u001b[38;5;129;01mnot\u001b[39;00m \u001b[38;5;28;01mFalse\u001b[39;00m:\n",
      "File \u001b[1;32m~\\AppData\\Roaming\\Python\\Python313\\site-packages\\pandas\\core\\frame.py:9509\u001b[0m, in \u001b[0;36mDataFrame.pivot_table\u001b[1;34m(self, values, index, columns, aggfunc, fill_value, margins, dropna, margins_name, observed, sort)\u001b[0m\n\u001b[0;32m   9492\u001b[0m \u001b[38;5;129m@Substitution\u001b[39m(\u001b[38;5;124m\"\u001b[39m\u001b[38;5;124m\"\u001b[39m)\n\u001b[0;32m   9493\u001b[0m \u001b[38;5;129m@Appender\u001b[39m(_shared_docs[\u001b[38;5;124m\"\u001b[39m\u001b[38;5;124mpivot_table\u001b[39m\u001b[38;5;124m\"\u001b[39m])\n\u001b[0;32m   9494\u001b[0m \u001b[38;5;28;01mdef\u001b[39;00m \u001b[38;5;21mpivot_table\u001b[39m(\n\u001b[1;32m   (...)\u001b[0m\n\u001b[0;32m   9505\u001b[0m     sort: \u001b[38;5;28mbool\u001b[39m \u001b[38;5;241m=\u001b[39m \u001b[38;5;28;01mTrue\u001b[39;00m,\n\u001b[0;32m   9506\u001b[0m ) \u001b[38;5;241m-\u001b[39m\u001b[38;5;241m>\u001b[39m DataFrame:\n\u001b[0;32m   9507\u001b[0m     \u001b[38;5;28;01mfrom\u001b[39;00m \u001b[38;5;21;01mpandas\u001b[39;00m\u001b[38;5;21;01m.\u001b[39;00m\u001b[38;5;21;01mcore\u001b[39;00m\u001b[38;5;21;01m.\u001b[39;00m\u001b[38;5;21;01mreshape\u001b[39;00m\u001b[38;5;21;01m.\u001b[39;00m\u001b[38;5;21;01mpivot\u001b[39;00m \u001b[38;5;28;01mimport\u001b[39;00m pivot_table\n\u001b[1;32m-> 9509\u001b[0m     \u001b[38;5;28;01mreturn\u001b[39;00m \u001b[43mpivot_table\u001b[49m\u001b[43m(\u001b[49m\n\u001b[0;32m   9510\u001b[0m \u001b[43m        \u001b[49m\u001b[38;5;28;43mself\u001b[39;49m\u001b[43m,\u001b[49m\n\u001b[0;32m   9511\u001b[0m \u001b[43m        \u001b[49m\u001b[43mvalues\u001b[49m\u001b[38;5;241;43m=\u001b[39;49m\u001b[43mvalues\u001b[49m\u001b[43m,\u001b[49m\n\u001b[0;32m   9512\u001b[0m \u001b[43m        \u001b[49m\u001b[43mindex\u001b[49m\u001b[38;5;241;43m=\u001b[39;49m\u001b[43mindex\u001b[49m\u001b[43m,\u001b[49m\n\u001b[0;32m   9513\u001b[0m \u001b[43m        \u001b[49m\u001b[43mcolumns\u001b[49m\u001b[38;5;241;43m=\u001b[39;49m\u001b[43mcolumns\u001b[49m\u001b[43m,\u001b[49m\n\u001b[0;32m   9514\u001b[0m \u001b[43m        \u001b[49m\u001b[43maggfunc\u001b[49m\u001b[38;5;241;43m=\u001b[39;49m\u001b[43maggfunc\u001b[49m\u001b[43m,\u001b[49m\n\u001b[0;32m   9515\u001b[0m \u001b[43m        \u001b[49m\u001b[43mfill_value\u001b[49m\u001b[38;5;241;43m=\u001b[39;49m\u001b[43mfill_value\u001b[49m\u001b[43m,\u001b[49m\n\u001b[0;32m   9516\u001b[0m \u001b[43m        \u001b[49m\u001b[43mmargins\u001b[49m\u001b[38;5;241;43m=\u001b[39;49m\u001b[43mmargins\u001b[49m\u001b[43m,\u001b[49m\n\u001b[0;32m   9517\u001b[0m \u001b[43m        \u001b[49m\u001b[43mdropna\u001b[49m\u001b[38;5;241;43m=\u001b[39;49m\u001b[43mdropna\u001b[49m\u001b[43m,\u001b[49m\n\u001b[0;32m   9518\u001b[0m \u001b[43m        \u001b[49m\u001b[43mmargins_name\u001b[49m\u001b[38;5;241;43m=\u001b[39;49m\u001b[43mmargins_name\u001b[49m\u001b[43m,\u001b[49m\n\u001b[0;32m   9519\u001b[0m \u001b[43m        \u001b[49m\u001b[43mobserved\u001b[49m\u001b[38;5;241;43m=\u001b[39;49m\u001b[43mobserved\u001b[49m\u001b[43m,\u001b[49m\n\u001b[0;32m   9520\u001b[0m \u001b[43m        \u001b[49m\u001b[43msort\u001b[49m\u001b[38;5;241;43m=\u001b[39;49m\u001b[43msort\u001b[49m\u001b[43m,\u001b[49m\n\u001b[0;32m   9521\u001b[0m \u001b[43m    \u001b[49m\u001b[43m)\u001b[49m\n",
      "File \u001b[1;32m~\\AppData\\Roaming\\Python\\Python313\\site-packages\\pandas\\core\\reshape\\pivot.py:102\u001b[0m, in \u001b[0;36mpivot_table\u001b[1;34m(data, values, index, columns, aggfunc, fill_value, margins, dropna, margins_name, observed, sort)\u001b[0m\n\u001b[0;32m     99\u001b[0m     table \u001b[38;5;241m=\u001b[39m concat(pieces, keys\u001b[38;5;241m=\u001b[39mkeys, axis\u001b[38;5;241m=\u001b[39m\u001b[38;5;241m1\u001b[39m)\n\u001b[0;32m    100\u001b[0m     \u001b[38;5;28;01mreturn\u001b[39;00m table\u001b[38;5;241m.\u001b[39m__finalize__(data, method\u001b[38;5;241m=\u001b[39m\u001b[38;5;124m\"\u001b[39m\u001b[38;5;124mpivot_table\u001b[39m\u001b[38;5;124m\"\u001b[39m)\n\u001b[1;32m--> 102\u001b[0m table \u001b[38;5;241m=\u001b[39m \u001b[43m__internal_pivot_table\u001b[49m\u001b[43m(\u001b[49m\n\u001b[0;32m    103\u001b[0m \u001b[43m    \u001b[49m\u001b[43mdata\u001b[49m\u001b[43m,\u001b[49m\n\u001b[0;32m    104\u001b[0m \u001b[43m    \u001b[49m\u001b[43mvalues\u001b[49m\u001b[43m,\u001b[49m\n\u001b[0;32m    105\u001b[0m \u001b[43m    \u001b[49m\u001b[43mindex\u001b[49m\u001b[43m,\u001b[49m\n\u001b[0;32m    106\u001b[0m \u001b[43m    \u001b[49m\u001b[43mcolumns\u001b[49m\u001b[43m,\u001b[49m\n\u001b[0;32m    107\u001b[0m \u001b[43m    \u001b[49m\u001b[43maggfunc\u001b[49m\u001b[43m,\u001b[49m\n\u001b[0;32m    108\u001b[0m \u001b[43m    \u001b[49m\u001b[43mfill_value\u001b[49m\u001b[43m,\u001b[49m\n\u001b[0;32m    109\u001b[0m \u001b[43m    \u001b[49m\u001b[43mmargins\u001b[49m\u001b[43m,\u001b[49m\n\u001b[0;32m    110\u001b[0m \u001b[43m    \u001b[49m\u001b[43mdropna\u001b[49m\u001b[43m,\u001b[49m\n\u001b[0;32m    111\u001b[0m \u001b[43m    \u001b[49m\u001b[43mmargins_name\u001b[49m\u001b[43m,\u001b[49m\n\u001b[0;32m    112\u001b[0m \u001b[43m    \u001b[49m\u001b[43mobserved\u001b[49m\u001b[43m,\u001b[49m\n\u001b[0;32m    113\u001b[0m \u001b[43m    \u001b[49m\u001b[43msort\u001b[49m\u001b[43m,\u001b[49m\n\u001b[0;32m    114\u001b[0m \u001b[43m\u001b[49m\u001b[43m)\u001b[49m\n\u001b[0;32m    115\u001b[0m \u001b[38;5;28;01mreturn\u001b[39;00m table\u001b[38;5;241m.\u001b[39m__finalize__(data, method\u001b[38;5;241m=\u001b[39m\u001b[38;5;124m\"\u001b[39m\u001b[38;5;124mpivot_table\u001b[39m\u001b[38;5;124m\"\u001b[39m)\n",
      "File \u001b[1;32m~\\AppData\\Roaming\\Python\\Python313\\site-packages\\pandas\\core\\reshape\\pivot.py:183\u001b[0m, in \u001b[0;36m__internal_pivot_table\u001b[1;34m(data, values, index, columns, aggfunc, fill_value, margins, dropna, margins_name, observed, sort)\u001b[0m\n\u001b[0;32m    173\u001b[0m \u001b[38;5;28;01mif\u001b[39;00m observed \u001b[38;5;129;01mis\u001b[39;00m lib\u001b[38;5;241m.\u001b[39mno_default \u001b[38;5;129;01mand\u001b[39;00m \u001b[38;5;28many\u001b[39m(\n\u001b[0;32m    174\u001b[0m     ping\u001b[38;5;241m.\u001b[39m_passed_categorical \u001b[38;5;28;01mfor\u001b[39;00m ping \u001b[38;5;129;01min\u001b[39;00m grouped\u001b[38;5;241m.\u001b[39m_grouper\u001b[38;5;241m.\u001b[39mgroupings\n\u001b[0;32m    175\u001b[0m ):\n\u001b[0;32m    176\u001b[0m     warnings\u001b[38;5;241m.\u001b[39mwarn(\n\u001b[0;32m    177\u001b[0m         \u001b[38;5;124m\"\u001b[39m\u001b[38;5;124mThe default value of observed=False is deprecated and will change \u001b[39m\u001b[38;5;124m\"\u001b[39m\n\u001b[0;32m    178\u001b[0m         \u001b[38;5;124m\"\u001b[39m\u001b[38;5;124mto observed=True in a future version of pandas. Specify \u001b[39m\u001b[38;5;124m\"\u001b[39m\n\u001b[1;32m   (...)\u001b[0m\n\u001b[0;32m    181\u001b[0m         stacklevel\u001b[38;5;241m=\u001b[39mfind_stack_level(),\n\u001b[0;32m    182\u001b[0m     )\n\u001b[1;32m--> 183\u001b[0m agged \u001b[38;5;241m=\u001b[39m \u001b[43mgrouped\u001b[49m\u001b[38;5;241;43m.\u001b[39;49m\u001b[43magg\u001b[49m\u001b[43m(\u001b[49m\u001b[43maggfunc\u001b[49m\u001b[43m)\u001b[49m\n\u001b[0;32m    185\u001b[0m \u001b[38;5;28;01mif\u001b[39;00m dropna \u001b[38;5;129;01mand\u001b[39;00m \u001b[38;5;28misinstance\u001b[39m(agged, ABCDataFrame) \u001b[38;5;129;01mand\u001b[39;00m \u001b[38;5;28mlen\u001b[39m(agged\u001b[38;5;241m.\u001b[39mcolumns):\n\u001b[0;32m    186\u001b[0m     agged \u001b[38;5;241m=\u001b[39m agged\u001b[38;5;241m.\u001b[39mdropna(how\u001b[38;5;241m=\u001b[39m\u001b[38;5;124m\"\u001b[39m\u001b[38;5;124mall\u001b[39m\u001b[38;5;124m\"\u001b[39m)\n",
      "File \u001b[1;32m~\\AppData\\Roaming\\Python\\Python313\\site-packages\\pandas\\core\\groupby\\generic.py:1466\u001b[0m, in \u001b[0;36mDataFrameGroupBy.aggregate\u001b[1;34m(self, func, engine, engine_kwargs, *args, **kwargs)\u001b[0m\n\u001b[0;32m   1463\u001b[0m \u001b[38;5;66;03m# grouper specific aggregations\u001b[39;00m\n\u001b[0;32m   1464\u001b[0m \u001b[38;5;28;01mif\u001b[39;00m \u001b[38;5;28mself\u001b[39m\u001b[38;5;241m.\u001b[39m_grouper\u001b[38;5;241m.\u001b[39mnkeys \u001b[38;5;241m>\u001b[39m \u001b[38;5;241m1\u001b[39m:\n\u001b[0;32m   1465\u001b[0m     \u001b[38;5;66;03m# test_groupby_as_index_series_scalar gets here with 'not self.as_index'\u001b[39;00m\n\u001b[1;32m-> 1466\u001b[0m     \u001b[38;5;28;01mreturn\u001b[39;00m \u001b[38;5;28;43mself\u001b[39;49m\u001b[38;5;241;43m.\u001b[39;49m\u001b[43m_python_agg_general\u001b[49m\u001b[43m(\u001b[49m\u001b[43mfunc\u001b[49m\u001b[43m,\u001b[49m\u001b[43m \u001b[49m\u001b[38;5;241;43m*\u001b[39;49m\u001b[43margs\u001b[49m\u001b[43m,\u001b[49m\u001b[43m \u001b[49m\u001b[38;5;241;43m*\u001b[39;49m\u001b[38;5;241;43m*\u001b[39;49m\u001b[43mkwargs\u001b[49m\u001b[43m)\u001b[49m\n\u001b[0;32m   1467\u001b[0m \u001b[38;5;28;01melif\u001b[39;00m args \u001b[38;5;129;01mor\u001b[39;00m kwargs:\n\u001b[0;32m   1468\u001b[0m     \u001b[38;5;66;03m# test_pass_args_kwargs gets here (with and without as_index)\u001b[39;00m\n\u001b[0;32m   1469\u001b[0m     \u001b[38;5;66;03m# can't return early\u001b[39;00m\n\u001b[0;32m   1470\u001b[0m     result \u001b[38;5;241m=\u001b[39m \u001b[38;5;28mself\u001b[39m\u001b[38;5;241m.\u001b[39m_aggregate_frame(func, \u001b[38;5;241m*\u001b[39margs, \u001b[38;5;241m*\u001b[39m\u001b[38;5;241m*\u001b[39mkwargs)\n",
      "File \u001b[1;32m~\\AppData\\Roaming\\Python\\Python313\\site-packages\\pandas\\core\\groupby\\generic.py:1537\u001b[0m, in \u001b[0;36mDataFrameGroupBy._python_agg_general\u001b[1;34m(self, func, *args, **kwargs)\u001b[0m\n\u001b[0;32m   1535\u001b[0m res \u001b[38;5;241m=\u001b[39m \u001b[38;5;28mself\u001b[39m\u001b[38;5;241m.\u001b[39mobj\u001b[38;5;241m.\u001b[39m_constructor(output)\n\u001b[0;32m   1536\u001b[0m res\u001b[38;5;241m.\u001b[39mcolumns \u001b[38;5;241m=\u001b[39m obj\u001b[38;5;241m.\u001b[39mcolumns\u001b[38;5;241m.\u001b[39mcopy(deep\u001b[38;5;241m=\u001b[39m\u001b[38;5;28;01mFalse\u001b[39;00m)\n\u001b[1;32m-> 1537\u001b[0m \u001b[38;5;28;01mreturn\u001b[39;00m \u001b[38;5;28;43mself\u001b[39;49m\u001b[38;5;241;43m.\u001b[39;49m\u001b[43m_wrap_aggregated_output\u001b[49m\u001b[43m(\u001b[49m\u001b[43mres\u001b[49m\u001b[43m)\u001b[49m\n",
      "File \u001b[1;32m~\\AppData\\Roaming\\Python\\Python313\\site-packages\\pandas\\core\\groupby\\groupby.py:1618\u001b[0m, in \u001b[0;36mGroupBy._wrap_aggregated_output\u001b[1;34m(self, result, qs)\u001b[0m\n\u001b[0;32m   1615\u001b[0m \u001b[38;5;66;03m# error: Argument 1 to \"_maybe_transpose_result\" of \"GroupBy\" has\u001b[39;00m\n\u001b[0;32m   1616\u001b[0m \u001b[38;5;66;03m# incompatible type \"Union[Series, DataFrame]\"; expected \"NDFrameT\"\u001b[39;00m\n\u001b[0;32m   1617\u001b[0m res \u001b[38;5;241m=\u001b[39m \u001b[38;5;28mself\u001b[39m\u001b[38;5;241m.\u001b[39m_maybe_transpose_result(result)  \u001b[38;5;66;03m# type: ignore[arg-type]\u001b[39;00m\n\u001b[1;32m-> 1618\u001b[0m \u001b[38;5;28;01mreturn\u001b[39;00m \u001b[38;5;28;43mself\u001b[39;49m\u001b[38;5;241;43m.\u001b[39;49m\u001b[43m_reindex_output\u001b[49m\u001b[43m(\u001b[49m\u001b[43mres\u001b[49m\u001b[43m,\u001b[49m\u001b[43m \u001b[49m\u001b[43mqs\u001b[49m\u001b[38;5;241;43m=\u001b[39;49m\u001b[43mqs\u001b[49m\u001b[43m)\u001b[49m\n",
      "File \u001b[1;32m~\\AppData\\Roaming\\Python\\Python313\\site-packages\\pandas\\core\\groupby\\groupby.py:5622\u001b[0m, in \u001b[0;36mGroupBy._reindex_output\u001b[1;34m(self, output, fill_value, qs)\u001b[0m\n\u001b[0;32m   5620\u001b[0m index \u001b[38;5;241m=\u001b[39m MultiIndex\u001b[38;5;241m.\u001b[39mfrom_product(levels_list, names\u001b[38;5;241m=\u001b[39mnames)\n\u001b[0;32m   5621\u001b[0m \u001b[38;5;28;01mif\u001b[39;00m \u001b[38;5;28mself\u001b[39m\u001b[38;5;241m.\u001b[39msort:\n\u001b[1;32m-> 5622\u001b[0m     index \u001b[38;5;241m=\u001b[39m \u001b[43mindex\u001b[49m\u001b[38;5;241;43m.\u001b[39;49m\u001b[43msort_values\u001b[49m\u001b[43m(\u001b[49m\u001b[43m)\u001b[49m\n\u001b[0;32m   5624\u001b[0m \u001b[38;5;28;01mif\u001b[39;00m \u001b[38;5;28mself\u001b[39m\u001b[38;5;241m.\u001b[39mas_index:\n\u001b[0;32m   5625\u001b[0m     \u001b[38;5;66;03m# Always holds for SeriesGroupBy unless GH#36507 is implemented\u001b[39;00m\n\u001b[0;32m   5626\u001b[0m     d \u001b[38;5;241m=\u001b[39m {\n\u001b[0;32m   5627\u001b[0m         \u001b[38;5;28mself\u001b[39m\u001b[38;5;241m.\u001b[39mobj\u001b[38;5;241m.\u001b[39m_get_axis_name(\u001b[38;5;28mself\u001b[39m\u001b[38;5;241m.\u001b[39maxis): index,\n\u001b[0;32m   5628\u001b[0m         \u001b[38;5;124m\"\u001b[39m\u001b[38;5;124mcopy\u001b[39m\u001b[38;5;124m\"\u001b[39m: \u001b[38;5;28;01mFalse\u001b[39;00m,\n\u001b[0;32m   5629\u001b[0m         \u001b[38;5;124m\"\u001b[39m\u001b[38;5;124mfill_value\u001b[39m\u001b[38;5;124m\"\u001b[39m: fill_value,\n\u001b[0;32m   5630\u001b[0m     }\n",
      "File \u001b[1;32m~\\AppData\\Roaming\\Python\\Python313\\site-packages\\pandas\\util\\_decorators.py:333\u001b[0m, in \u001b[0;36mdeprecate_nonkeyword_arguments.<locals>.decorate.<locals>.wrapper\u001b[1;34m(*args, **kwargs)\u001b[0m\n\u001b[0;32m    327\u001b[0m \u001b[38;5;28;01mif\u001b[39;00m \u001b[38;5;28mlen\u001b[39m(args) \u001b[38;5;241m>\u001b[39m num_allow_args:\n\u001b[0;32m    328\u001b[0m     warnings\u001b[38;5;241m.\u001b[39mwarn(\n\u001b[0;32m    329\u001b[0m         msg\u001b[38;5;241m.\u001b[39mformat(arguments\u001b[38;5;241m=\u001b[39m_format_argument_list(allow_args)),\n\u001b[0;32m    330\u001b[0m         \u001b[38;5;167;01mFutureWarning\u001b[39;00m,\n\u001b[0;32m    331\u001b[0m         stacklevel\u001b[38;5;241m=\u001b[39mfind_stack_level(),\n\u001b[0;32m    332\u001b[0m     )\n\u001b[1;32m--> 333\u001b[0m \u001b[38;5;28;01mreturn\u001b[39;00m \u001b[43mfunc\u001b[49m\u001b[43m(\u001b[49m\u001b[38;5;241;43m*\u001b[39;49m\u001b[43margs\u001b[49m\u001b[43m,\u001b[49m\u001b[43m \u001b[49m\u001b[38;5;241;43m*\u001b[39;49m\u001b[38;5;241;43m*\u001b[39;49m\u001b[43mkwargs\u001b[49m\u001b[43m)\u001b[49m\n",
      "File \u001b[1;32m~\\AppData\\Roaming\\Python\\Python313\\site-packages\\pandas\\core\\indexes\\base.py:5920\u001b[0m, in \u001b[0;36mIndex.sort_values\u001b[1;34m(self, return_indexer, ascending, na_position, key)\u001b[0m\n\u001b[0;32m   5858\u001b[0m \u001b[38;5;129m@deprecate_nonkeyword_arguments\u001b[39m(\n\u001b[0;32m   5859\u001b[0m     version\u001b[38;5;241m=\u001b[39m\u001b[38;5;124m\"\u001b[39m\u001b[38;5;124m3.0\u001b[39m\u001b[38;5;124m\"\u001b[39m, allowed_args\u001b[38;5;241m=\u001b[39m[\u001b[38;5;124m\"\u001b[39m\u001b[38;5;124mself\u001b[39m\u001b[38;5;124m\"\u001b[39m], name\u001b[38;5;241m=\u001b[39m\u001b[38;5;124m\"\u001b[39m\u001b[38;5;124msort_values\u001b[39m\u001b[38;5;124m\"\u001b[39m\n\u001b[0;32m   5860\u001b[0m )\n\u001b[1;32m   (...)\u001b[0m\n\u001b[0;32m   5866\u001b[0m     key: Callable \u001b[38;5;241m|\u001b[39m \u001b[38;5;28;01mNone\u001b[39;00m \u001b[38;5;241m=\u001b[39m \u001b[38;5;28;01mNone\u001b[39;00m,\n\u001b[0;32m   5867\u001b[0m ) \u001b[38;5;241m-\u001b[39m\u001b[38;5;241m>\u001b[39m Self \u001b[38;5;241m|\u001b[39m \u001b[38;5;28mtuple\u001b[39m[Self, np\u001b[38;5;241m.\u001b[39mndarray]:\n\u001b[0;32m   5868\u001b[0m \u001b[38;5;250m    \u001b[39m\u001b[38;5;124;03m\"\"\"\u001b[39;00m\n\u001b[0;32m   5869\u001b[0m \u001b[38;5;124;03m    Return a sorted copy of the index.\u001b[39;00m\n\u001b[0;32m   5870\u001b[0m \n\u001b[1;32m   (...)\u001b[0m\n\u001b[0;32m   5917\u001b[0m \u001b[38;5;124;03m    (Index([1000, 100, 10, 1], dtype='int64'), array([3, 1, 0, 2]))\u001b[39;00m\n\u001b[0;32m   5918\u001b[0m \u001b[38;5;124;03m    \"\"\"\u001b[39;00m\n\u001b[0;32m   5919\u001b[0m     \u001b[38;5;28;01mif\u001b[39;00m key \u001b[38;5;129;01mis\u001b[39;00m \u001b[38;5;28;01mNone\u001b[39;00m \u001b[38;5;129;01mand\u001b[39;00m (\n\u001b[1;32m-> 5920\u001b[0m         (ascending \u001b[38;5;129;01mand\u001b[39;00m \u001b[38;5;28;43mself\u001b[39;49m\u001b[38;5;241;43m.\u001b[39;49m\u001b[43mis_monotonic_increasing\u001b[49m)\n\u001b[0;32m   5921\u001b[0m         \u001b[38;5;129;01mor\u001b[39;00m (\u001b[38;5;129;01mnot\u001b[39;00m ascending \u001b[38;5;129;01mand\u001b[39;00m \u001b[38;5;28mself\u001b[39m\u001b[38;5;241m.\u001b[39mis_monotonic_decreasing)\n\u001b[0;32m   5922\u001b[0m     ):\n\u001b[0;32m   5923\u001b[0m         \u001b[38;5;28;01mif\u001b[39;00m return_indexer:\n\u001b[0;32m   5924\u001b[0m             indexer \u001b[38;5;241m=\u001b[39m np\u001b[38;5;241m.\u001b[39marange(\u001b[38;5;28mlen\u001b[39m(\u001b[38;5;28mself\u001b[39m), dtype\u001b[38;5;241m=\u001b[39mnp\u001b[38;5;241m.\u001b[39mintp)\n",
      "File \u001b[1;32mproperties.pyx:36\u001b[0m, in \u001b[0;36mpandas._libs.properties.CachedProperty.__get__\u001b[1;34m()\u001b[0m\n",
      "File \u001b[1;32m~\\AppData\\Roaming\\Python\\Python313\\site-packages\\pandas\\core\\indexes\\multi.py:1695\u001b[0m, in \u001b[0;36mMultiIndex.is_monotonic_increasing\u001b[1;34m(self)\u001b[0m\n\u001b[0;32m   1690\u001b[0m     \u001b[38;5;28;01mreturn\u001b[39;00m \u001b[38;5;28;01mFalse\u001b[39;00m\n\u001b[0;32m   1692\u001b[0m \u001b[38;5;28;01mif\u001b[39;00m \u001b[38;5;28mall\u001b[39m(level\u001b[38;5;241m.\u001b[39mis_monotonic_increasing \u001b[38;5;28;01mfor\u001b[39;00m level \u001b[38;5;129;01min\u001b[39;00m \u001b[38;5;28mself\u001b[39m\u001b[38;5;241m.\u001b[39mlevels):\n\u001b[0;32m   1693\u001b[0m     \u001b[38;5;66;03m# If each level is sorted, we can operate on the codes directly. GH27495\u001b[39;00m\n\u001b[0;32m   1694\u001b[0m     \u001b[38;5;28;01mreturn\u001b[39;00m libalgos\u001b[38;5;241m.\u001b[39mis_lexsorted(\n\u001b[1;32m-> 1695\u001b[0m         [\u001b[43mx\u001b[49m\u001b[38;5;241;43m.\u001b[39;49m\u001b[43mastype\u001b[49m\u001b[43m(\u001b[49m\u001b[38;5;124;43m\"\u001b[39;49m\u001b[38;5;124;43mint64\u001b[39;49m\u001b[38;5;124;43m\"\u001b[39;49m\u001b[43m,\u001b[49m\u001b[43m \u001b[49m\u001b[43mcopy\u001b[49m\u001b[38;5;241;43m=\u001b[39;49m\u001b[38;5;28;43;01mFalse\u001b[39;49;00m\u001b[43m)\u001b[49m \u001b[38;5;28;01mfor\u001b[39;00m x \u001b[38;5;129;01min\u001b[39;00m \u001b[38;5;28mself\u001b[39m\u001b[38;5;241m.\u001b[39mcodes]\n\u001b[0;32m   1696\u001b[0m     )\n\u001b[0;32m   1698\u001b[0m \u001b[38;5;66;03m# reversed() because lexsort() wants the most significant key last.\u001b[39;00m\n\u001b[0;32m   1699\u001b[0m values \u001b[38;5;241m=\u001b[39m [\n\u001b[0;32m   1700\u001b[0m     \u001b[38;5;28mself\u001b[39m\u001b[38;5;241m.\u001b[39m_get_level_values(i)\u001b[38;5;241m.\u001b[39m_values \u001b[38;5;28;01mfor\u001b[39;00m i \u001b[38;5;129;01min\u001b[39;00m \u001b[38;5;28mreversed\u001b[39m(\u001b[38;5;28mrange\u001b[39m(\u001b[38;5;28mlen\u001b[39m(\u001b[38;5;28mself\u001b[39m\u001b[38;5;241m.\u001b[39mlevels)))\n\u001b[0;32m   1701\u001b[0m ]\n",
      "\u001b[1;31mKeyboardInterrupt\u001b[0m: "
     ]
    }
   ],
   "source": [
    "import pandas as pd\n",
    "import numpy as np\n",
    "from scipy.stats import chi2_contingency\n",
    "\n",
    "def cramers_v(tabla):\n",
    "    chi2, p, dof, expected = chi2_contingency(tabla)\n",
    "    n = tabla.sum().sum()\n",
    "    phi2 = chi2 / n\n",
    "    r, k = tabla.shape\n",
    "    phi2corr = max(0, phi2 - ((k - 1) * (r - 1)) / (n - 1))\n",
    "    rcorr = r - ((r - 1) ** 2) / (n - 1)\n",
    "    kcorr = k - ((k - 1) ** 2) / (n - 1)\n",
    "    return np.sqrt(phi2corr / min((kcorr - 1), (rcorr - 1)))\n",
    "\n",
    "relaciones = pd.DataFrame(index=columnas_categoricas, columns=columnas_categoricas)\n",
    "\n",
    "for col1 in columnas_categoricas:\n",
    "    for col2 in columnas_categoricas:\n",
    "        tabla = pd.crosstab(data2[col1], data2[col2])\n",
    "        if tabla.shape[0] > 1 and tabla.shape[1] > 1:\n",
    "            relaciones.loc[col1, col2] = cramers_v(tabla)\n",
    "        else:\n",
    "            relaciones.loc[col1, col2] = np.nan  \n",
    "\n",
    "print(\"Relación entre columnas_categoricas (Cramér's V):\")\n",
    "print(relaciones)"
   ]
  },
  {
   "cell_type": "code",
   "execution_count": 270,
   "metadata": {},
   "outputs": [
    {
     "name": "stdout",
     "output_type": "stream",
     "text": [
      "CCAA | Provincia | 0.998\n",
      "CCAA | Localidad | 0.722\n",
      "Localidad | Provincia | 0.719\n",
      "Localidad | Riesgo | 0.538\n",
      "Localizacion | Vigilancia | 0.535\n",
      "Localidad | Localizacion | 0.531\n",
      "Deteccion | PrimerInterviniente | 0.522\n",
      "Pronostico | TipoAhogamiento | 0.514\n",
      "FactorRiesgo | Edad_discretizada | 0.511\n",
      "Vigilancia | Intervencion | 0.511\n",
      "Vigilancia | Extraccion | 0.507\n",
      "Extraccion | Intervencion | 0.486\n",
      "Actividad | Localidad | 0.481\n",
      "Causa | Riesgo | 0.466\n",
      "Deteccion | Vigilancia | 0.452\n",
      "Localidad | Extraccion | 0.443\n",
      "Causa | Localidad | 0.443\n",
      "Reanimacion | Intervencion | 0.442\n",
      "Deteccion | Localidad | 0.442\n",
      "PrimerInterviniente | Vigilancia | 0.434\n",
      "Localidad | Vigilancia | 0.423\n",
      "Actividad | Causa | 0.421\n",
      "PrimerInterviniente | Localidad | 0.413\n",
      "Localidad | FactorRiesgo | 0.404\n",
      "TipoAhogamiento | Causa | 0.402\n"
     ]
    }
   ],
   "source": [
    "relaciones_fuertes = relaciones.map(lambda x: x if x > 0.4 else np.nan).dropna(how='all').dropna(axis=1, how='all')\n",
    "\n",
    "relaciones_fuertes_dict = relaciones_fuertes.stack().to_dict()\n",
    "\n",
    "relaciones_fuertes_tabla = pd.DataFrame(\n",
    "    [(var1, var2, valor) for (var1, var2), valor in relaciones_fuertes_dict.items()],\n",
    "    columns=[\"Variable 1\", \"Variable 2\", \"Valor\"]\n",
    ")\n",
    "\n",
    "relaciones_fuertes_tabla = relaciones_fuertes_tabla.sort_values(by=\"Valor\", ascending=False).reset_index(drop=True)\n",
    "\n",
    "vistos = set()\n",
    "for i in range(relaciones_fuertes_tabla.shape[0]):\n",
    "    var1, var2, valor = relaciones_fuertes_tabla.iloc[i]\n",
    "    if var1 != var2 and (var2, var1) not in vistos:\n",
    "        print(var1, '|', var2, '|', f\"{valor:.3f}\")\n",
    "        vistos.add((var1, var2))\n"
   ]
  },
  {
   "cell_type": "markdown",
   "metadata": {},
   "source": [
    "### ESTOS SON RESULTADOS PARA UN NUMERO DE BINS = 3"
   ]
  },
  {
   "cell_type": "markdown",
   "metadata": {},
   "source": [
    "* De aqui vemos varias cosas, en primer lugar relacionado con la edad:\n",
    "\n",
    "La edad esta relacionada con el Factor de Riesgo\n",
    "\n",
    "* En relacion con la Vigilancia, esto tiene 3 relaciones:\n",
    "\n",
    "Intervencion, localizacion y extraccion\n",
    "\n",
    "* Otras:\n",
    "    Deteccion con PrimerInterviniente\n",
    "    Tipo de Ahogamiento con el pronostico\n",
    "\n",
    "Analizemoslas una a una"
   ]
  },
  {
   "cell_type": "markdown",
   "metadata": {},
   "source": [
    "* #### Edad_discretizada-FactorRiesgo"
   ]
  },
  {
   "cell_type": "code",
   "execution_count": 235,
   "metadata": {},
   "outputs": [
    {
     "name": "stdout",
     "output_type": "stream",
     "text": [
      "Index(['Menor de 32 años', 'Entre 32 y 60 años', 'Mayor de 60 años',\n",
      "       'Sin datos'],\n",
      "      dtype='object')\n",
      "Index(['Desconocimiento o falta de información', 'Drogas, Alcohol, tóxicos',\n",
      "       'Edad, Enfermedad, Enfermedad Mental', 'Externos al medio acuático',\n",
      "       'Falta de protección o equipamiento',\n",
      "       'Falta de supervisión o vigilancia', 'Intento de Rescate acuático',\n",
      "       'Navegación, deportes acuáticos', 'Peligrosidad del entorno',\n",
      "       'Psicológicos, roles de grupo', 'Sin datos',\n",
      "       'Violación de normas de seguridad'],\n",
      "      dtype='object')\n"
     ]
    }
   ],
   "source": [
    "print(data2['Edad_discretizada'].cat.categories)\n",
    "\n",
    "print(data2['FactorRiesgo'].cat.categories)"
   ]
  },
  {
   "cell_type": "code",
   "execution_count": 236,
   "metadata": {},
   "outputs": [
    {
     "name": "stdout",
     "output_type": "stream",
     "text": [
      "     Edad_discretizada                         FactorRiesgo\n",
      "15    Mayor de 60 años    Falta de supervisión o vigilancia\n",
      "59    Menor de 32 años                            Sin datos\n",
      "70    Mayor de 60 años  Edad, Enfermedad, Enfermedad Mental\n",
      "4018  Menor de 32 años     Violación de normas de seguridad\n"
     ]
    }
   ],
   "source": [
    "filas_seleccionadas = data2.loc[[15, 59, 70, 4018], ['Edad_discretizada', 'FactorRiesgo']]\n",
    "print(filas_seleccionadas)"
   ]
  },
  {
   "cell_type": "markdown",
   "metadata": {},
   "source": [
    "Ahora mostramos la tabla de contingencia para ver si hay algun caso mas recurrente que otro"
   ]
  },
  {
   "cell_type": "code",
   "execution_count": 237,
   "metadata": {},
   "outputs": [
    {
     "name": "stdout",
     "output_type": "stream",
     "text": [
      "FactorRiesgo        Desconocimiento o falta de información  \\\n",
      "Edad_discretizada                                            \n",
      "Menor de 32 años                                         3   \n",
      "Entre 32 y 60 años                                      12   \n",
      "Mayor de 60 años                                         4   \n",
      "Sin datos                                                8   \n",
      "\n",
      "FactorRiesgo        Drogas, Alcohol, tóxicos  \\\n",
      "Edad_discretizada                              \n",
      "Menor de 32 años                          65   \n",
      "Entre 32 y 60 años                        51   \n",
      "Mayor de 60 años                           4   \n",
      "Sin datos                                 15   \n",
      "\n",
      "FactorRiesgo        Edad, Enfermedad, Enfermedad Mental  \\\n",
      "Edad_discretizada                                         \n",
      "Menor de 32 años                                     22   \n",
      "Entre 32 y 60 años                                   85   \n",
      "Mayor de 60 años                                   2361   \n",
      "Sin datos                                            21   \n",
      "\n",
      "FactorRiesgo        Externos al medio acuático  \\\n",
      "Edad_discretizada                                \n",
      "Menor de 32 años                            15   \n",
      "Entre 32 y 60 años                          14   \n",
      "Mayor de 60 años                             6   \n",
      "Sin datos                                    3   \n",
      "\n",
      "FactorRiesgo        Falta de protección o equipamiento  \\\n",
      "Edad_discretizada                                        \n",
      "Menor de 32 años                                    54   \n",
      "Entre 32 y 60 años                                  30   \n",
      "Mayor de 60 años                                    15   \n",
      "Sin datos                                           10   \n",
      "\n",
      "FactorRiesgo        Falta de supervisión o vigilancia  \\\n",
      "Edad_discretizada                                       \n",
      "Menor de 32 años                                  242   \n",
      "Entre 32 y 60 años                                  3   \n",
      "Mayor de 60 años                                    2   \n",
      "Sin datos                                           4   \n",
      "\n",
      "FactorRiesgo        Intento de Rescate acuático  \\\n",
      "Edad_discretizada                                 \n",
      "Menor de 32 años                             12   \n",
      "Entre 32 y 60 años                           42   \n",
      "Mayor de 60 años                              3   \n",
      "Sin datos                                     9   \n",
      "\n",
      "FactorRiesgo        Navegación, deportes acuáticos  Peligrosidad del entorno  \\\n",
      "Edad_discretizada                                                              \n",
      "Menor de 32 años                               137                       284   \n",
      "Entre 32 y 60 años                             110                       251   \n",
      "Mayor de 60 años                                34                        36   \n",
      "Sin datos                                      139                       110   \n",
      "\n",
      "FactorRiesgo        Psicológicos, roles de grupo  Sin datos  \\\n",
      "Edad_discretizada                                             \n",
      "Menor de 32 años                               5       2146   \n",
      "Entre 32 y 60 años                             3       2492   \n",
      "Mayor de 60 años                               0        391   \n",
      "Sin datos                                      3       1913   \n",
      "\n",
      "FactorRiesgo        Violación de normas de seguridad  \n",
      "Edad_discretizada                                     \n",
      "Menor de 32 años                                 130  \n",
      "Entre 32 y 60 años                                87  \n",
      "Mayor de 60 años                                  16  \n",
      "Sin datos                                        102  \n"
     ]
    }
   ],
   "source": [
    "tabla_rel1 = pd.crosstab(data2['Edad_discretizada'], data2['FactorRiesgo'])\n",
    "print(tabla_rel1)"
   ]
  },
  {
   "cell_type": "markdown",
   "metadata": {},
   "source": [
    "Estamos viendo en la tabla que ante los siguientes antecedentes el grupo de edades que mas muertes tiene son los siguientes que ante el hecho de:\n",
    "\n",
    "Drogas, Alcohol, tóxicos -> Menores de 61 años (los mayores no consumen)\n",
    "\n",
    "!!! Edad, Enfermedad, Enfermedad Mental -> Mayor de 61 \n",
    "\n",
    "!! Falta de supervisión o vigilancia -> Menos de 32 años."
   ]
  },
  {
   "cell_type": "markdown",
   "metadata": {},
   "source": [
    "Ahora para decidir si hace falta quitar algun campo vemos cuantos casos hay en total"
   ]
  },
  {
   "cell_type": "code",
   "execution_count": 238,
   "metadata": {},
   "outputs": [
    {
     "name": "stdout",
     "output_type": "stream",
     "text": [
      "FactorRiesgo\n",
      "Sin datos                                 6942\n",
      "Edad, Enfermedad, Enfermedad Mental       2489\n",
      "Peligrosidad del entorno                   681\n",
      "Navegación, deportes acuáticos             420\n",
      "Violación de normas de seguridad           335\n",
      "Falta de supervisión o vigilancia          251\n",
      "Drogas, Alcohol, tóxicos                   135\n",
      "Falta de protección o equipamiento         109\n",
      "Intento de Rescate acuático                 66\n",
      "Externos al medio acuático                  38\n",
      "Desconocimiento o falta de información      27\n",
      "Psicológicos, roles de grupo                11\n",
      "Name: count, dtype: int64\n"
     ]
    }
   ],
   "source": [
    "factor_riesgo_counts = data2['FactorRiesgo'].value_counts()\n",
    "print(factor_riesgo_counts)"
   ]
  },
  {
   "cell_type": "markdown",
   "metadata": {},
   "source": [
    "Podriamos pensar en quitar Psicologicos, roles de grupo\n",
    "\n",
    "### Problema!! hay muchos mas de Sin datos que de lo demas el 60%\n"
   ]
  },
  {
   "cell_type": "markdown",
   "metadata": {},
   "source": [
    "Vamos a quitar las filas de la columna FactorRiesgo que tenga como valor \"Sin datos\" y aplicamos otra vez CramerV para estas dos columnas"
   ]
  },
  {
   "cell_type": "code",
   "execution_count": 239,
   "metadata": {},
   "outputs": [
    {
     "name": "stdout",
     "output_type": "stream",
     "text": [
      "Cantidad de filas con 'Sin datos' en la columna FactorRiesgo: 6942\n",
      "Porcentaje de filas con 'Sin datos' en la columna FactorRiesgo: 60.34%\n"
     ]
    }
   ],
   "source": [
    "sin_datos_factor_riesgo = data2[data2['FactorRiesgo'] == 'Sin datos'].shape[0]\n",
    "print(f\"Cantidad de filas con 'Sin datos' en la columna FactorRiesgo: {sin_datos_factor_riesgo}\")\n",
    "\n",
    "porcentaje_sin_datos_factor_riesgo = (sin_datos_factor_riesgo / dimension) * 100\n",
    "print(f\"Porcentaje de filas con 'Sin datos' en la columna FactorRiesgo: {porcentaje_sin_datos_factor_riesgo:.2f}%\")"
   ]
  },
  {
   "cell_type": "code",
   "execution_count": 240,
   "metadata": {},
   "outputs": [
    {
     "name": "stdout",
     "output_type": "stream",
     "text": [
      "4562\n",
      "                           FactorRiesgo\n",
      "0              Peligrosidad del entorno\n",
      "7              Peligrosidad del entorno\n",
      "9              Drogas, Alcohol, tóxicos\n",
      "10  Edad, Enfermedad, Enfermedad Mental\n",
      "12  Edad, Enfermedad, Enfermedad Mental\n",
      "0     Menor de 32 años\n",
      "7     Mayor de 60 años\n",
      "9     Menor de 32 años\n",
      "10    Mayor de 60 años\n",
      "12    Mayor de 60 años\n",
      "Name: Edad_discretizada, dtype: category\n",
      "Categories (4, object): ['Menor de 32 años' < 'Entre 32 y 60 años' < 'Mayor de 60 años' < 'Sin datos']\n"
     ]
    }
   ],
   "source": [
    "sin_datos_indices = data2[data2['FactorRiesgo'] == 'Sin datos'].index\n",
    "col_friesgo_limpia = data2.loc[data2['FactorRiesgo'] != 'Sin datos', ['FactorRiesgo']]\n",
    "print(len(col_friesgo_limpia))\n",
    "print(col_friesgo_limpia.head())\n",
    "edad_disc_limpia = data2.loc[~data2.index.isin(sin_datos_indices), 'Edad_discretizada']\n",
    "print(edad_disc_limpia.head())"
   ]
  },
  {
   "cell_type": "code",
   "execution_count": 241,
   "metadata": {},
   "outputs": [
    {
     "name": "stdout",
     "output_type": "stream",
     "text": [
      "Resultado de Cramér's V para 'FactorRiesgo': 0.5724\n"
     ]
    }
   ],
   "source": [
    "resultado_friesgo = 0\n",
    "tabla = pd.crosstab(edad_disc_limpia, col_friesgo_limpia['FactorRiesgo'])  # Aseguramos que se use la columna correcta\n",
    "if tabla.shape[0] > 1 and tabla.shape[1] > 1:\n",
    "    v = cramers_v(tabla)\n",
    "    resultado_friesgo = v\n",
    "print(f\"Resultado de Cramér's V para 'FactorRiesgo': {resultado_friesgo:.4f}\")\n"
   ]
  },
  {
   "cell_type": "code",
   "execution_count": 242,
   "metadata": {},
   "outputs": [
    {
     "name": "stdout",
     "output_type": "stream",
     "text": [
      "FactorRiesgo        Desconocimiento o falta de información  \\\n",
      "Edad_discretizada                                            \n",
      "Menor de 32 años                                         3   \n",
      "Entre 32 y 60 años                                      12   \n",
      "Mayor de 60 años                                         4   \n",
      "Sin datos                                                8   \n",
      "\n",
      "FactorRiesgo        Drogas, Alcohol, tóxicos  \\\n",
      "Edad_discretizada                              \n",
      "Menor de 32 años                          65   \n",
      "Entre 32 y 60 años                        51   \n",
      "Mayor de 60 años                           4   \n",
      "Sin datos                                 15   \n",
      "\n",
      "FactorRiesgo        Edad, Enfermedad, Enfermedad Mental  \\\n",
      "Edad_discretizada                                         \n",
      "Menor de 32 años                                     22   \n",
      "Entre 32 y 60 años                                   85   \n",
      "Mayor de 60 años                                   2361   \n",
      "Sin datos                                            21   \n",
      "\n",
      "FactorRiesgo        Externos al medio acuático  \\\n",
      "Edad_discretizada                                \n",
      "Menor de 32 años                            15   \n",
      "Entre 32 y 60 años                          14   \n",
      "Mayor de 60 años                             6   \n",
      "Sin datos                                    3   \n",
      "\n",
      "FactorRiesgo        Falta de protección o equipamiento  \\\n",
      "Edad_discretizada                                        \n",
      "Menor de 32 años                                    54   \n",
      "Entre 32 y 60 años                                  30   \n",
      "Mayor de 60 años                                    15   \n",
      "Sin datos                                           10   \n",
      "\n",
      "FactorRiesgo        Falta de supervisión o vigilancia  \\\n",
      "Edad_discretizada                                       \n",
      "Menor de 32 años                                  242   \n",
      "Entre 32 y 60 años                                  3   \n",
      "Mayor de 60 años                                    2   \n",
      "Sin datos                                           4   \n",
      "\n",
      "FactorRiesgo        Intento de Rescate acuático  \\\n",
      "Edad_discretizada                                 \n",
      "Menor de 32 años                             12   \n",
      "Entre 32 y 60 años                           42   \n",
      "Mayor de 60 años                              3   \n",
      "Sin datos                                     9   \n",
      "\n",
      "FactorRiesgo        Navegación, deportes acuáticos  Peligrosidad del entorno  \\\n",
      "Edad_discretizada                                                              \n",
      "Menor de 32 años                               137                       284   \n",
      "Entre 32 y 60 años                             110                       251   \n",
      "Mayor de 60 años                                34                        36   \n",
      "Sin datos                                      139                       110   \n",
      "\n",
      "FactorRiesgo        Psicológicos, roles de grupo  \\\n",
      "Edad_discretizada                                  \n",
      "Menor de 32 años                               5   \n",
      "Entre 32 y 60 años                             3   \n",
      "Mayor de 60 años                               0   \n",
      "Sin datos                                      3   \n",
      "\n",
      "FactorRiesgo        Violación de normas de seguridad  \n",
      "Edad_discretizada                                     \n",
      "Menor de 32 años                                 130  \n",
      "Entre 32 y 60 años                                87  \n",
      "Mayor de 60 años                                  16  \n",
      "Sin datos                                        102  \n"
     ]
    }
   ],
   "source": [
    "tabla_rel2 = pd.crosstab(edad_disc_limpia,col_friesgo_limpia['FactorRiesgo'])\n",
    "print(tabla_rel2)"
   ]
  },
  {
   "cell_type": "markdown",
   "metadata": {},
   "source": []
  },
  {
   "cell_type": "code",
   "execution_count": 273,
   "metadata": {},
   "outputs": [
    {
     "name": "stdout",
     "output_type": "stream",
     "text": [
      "\n",
      ">> COMPARACIÓN DE AMBOS MÉTODOS (Ordenados por SoloCol):\n",
      "Columna                       Normal    SoloCol       % SoloCol      Ambos         % Ambos\n",
      "FactorRiesgo                  0.5112     0.5724           39.66     0.6745           35.97\n",
      "Causa                         0.3082     0.3199           72.73     0.3442           55.77\n",
      "Localidad                     0.3826     0.3826          100.00     0.3341           79.69\n",
      "TipoAhogamiento               0.3033     0.3038           99.72     0.3170           79.47\n",
      "Pronostico                    0.2878     0.2879           99.90     0.2852           79.59\n",
      "Reanimacion                   0.2746     0.2756           97.64     0.2779           78.01\n",
      "Riesgo                        0.1806     0.1969           98.77     0.2460           32.06\n",
      "Actividad                     0.2388     0.2513           40.05     0.2369           76.77\n",
      "Localizacion                  0.2068     0.2387           96.05     0.1944           79.69\n",
      "Intervencion                  0.1997     0.2068          100.00     0.1872           79.10\n",
      "Extraccion                    0.1962     0.2006           99.25     0.1787           78.64\n",
      "Deteccion                     0.1277     0.1258           97.22     0.1681           78.53\n",
      "PrimerInterviniente           0.1248     0.1257           98.51     0.1657           77.40\n",
      "Nacionalidad                  0.1388     0.1399           98.76     0.1397           78.72\n",
      "Provincia                     0.1427     0.1427          100.00     0.1384           79.69\n",
      "CCAA                          0.1133     0.1133          100.00     0.1137           79.69\n",
      "Vigilancia                    0.0652     0.0803           99.76     0.0853           79.48\n",
      "Sexo                          0.2869     0.2869          100.00     0.0814           79.69\n"
     ]
    }
   ],
   "source": [
    "\n",
    "cramers_v_resultados_0 = []\n",
    "total_filas = len(data2)\n",
    "\n",
    "for col in columnas_categoricas:\n",
    "    if col == 'Edad_discretizada':\n",
    "        continue\n",
    "\n",
    "    tabla = pd.crosstab(data2['Edad_discretizada'], data2[col])\n",
    "    if tabla.shape[0] > 1 and tabla.shape[1] > 1:\n",
    "        v = cramers_v(tabla)\n",
    "        cramers_v_resultados_0.append((col, v))\n",
    "\n",
    "cramers_v_resultados_0.sort(key=lambda x: x[1], reverse=True)\n",
    "\n",
    "cramers_v_resultados_1 = []\n",
    "total_filas = len(data2)\n",
    "\n",
    "for col in columnas_categoricas:\n",
    "    if col == 'Edad_discretizada':\n",
    "        continue\n",
    "\n",
    "    subset = data2[data2[col] != \"Sin datos\"]\n",
    "    filas_restantes = len(subset)\n",
    "    porcentaje = (filas_restantes / total_filas) * 100\n",
    "\n",
    "    tabla = pd.crosstab(subset['Edad_discretizada'], subset[col])\n",
    "    if tabla.shape[0] > 1 and tabla.shape[1] > 1:\n",
    "        v = cramers_v(tabla)\n",
    "        cramers_v_resultados_1.append((col, v, porcentaje))\n",
    "\n",
    "cramers_v_resultados_1.sort(key=lambda x: x[1], reverse=True)\n",
    "\n",
    "\n",
    "cramers_v_resultados_2 = []\n",
    "total_filas = len(data2)\n",
    "\n",
    "for col in columnas_categoricas:\n",
    "    if col == 'Edad_discretizada':\n",
    "        continue\n",
    "\n",
    "    subset = data2[\n",
    "        (data2[col] != \"Sin datos\") & (data2['Edad_discretizada'] != \"Sin datos\")\n",
    "    ]\n",
    "    filas_restantes = len(subset)\n",
    "    porcentaje = (filas_restantes / total_filas) * 100\n",
    "\n",
    "    tabla = pd.crosstab(subset['Edad_discretizada'], subset[col])\n",
    "    if tabla.shape[0] > 1 and tabla.shape[1] > 1:\n",
    "        v = cramers_v(tabla)\n",
    "        cramers_v_resultados_2.append((col, v, porcentaje))\n",
    "\n",
    "cramers_v_resultados_2.sort(key=lambda x: x[1], reverse=True)\n",
    "\n",
    "\n",
    "print(\"\\n>> COMPARACIÓN DE AMBOS MÉTODOS (Ordenados por SoloCol):\")\n",
    "print(\"{:<25} {:>10} {:>10} {:>15} {:>10} {:>15}\".format(\"Columna\", \"Normal\", \"SoloCol\", \"% SoloCol\", \"Ambos\", \"% Ambos\"))\n",
    "\n",
    "comparacion = []\n",
    "for (col, v0), (col1, v1, pct1) in zip(cramers_v_resultados_0, cramers_v_resultados_1):\n",
    "    v2 = next((v for c, v, pct2 in cramers_v_resultados_2 if c == col), None)\n",
    "    pct_ambos = next((pct2 for c, v, pct2 in cramers_v_resultados_2 if c == col), None)\n",
    "    comparacion.append((col, v0, v1, pct1, v2, pct_ambos))\n",
    "\n",
    "comparacion.sort(key=lambda x: (x[4] if x[4] is not None else -1), reverse=True)\n",
    "\n",
    "\n",
    "for col, v0, v1, pct1, v2, pct_ambos in comparacion:\n",
    "    if v2 is not None:\n",
    "        print(f\"{col:<25} {v0:10.4f} {v1:10.4f} {pct1:15.2f} {v2:10.4f} {pct_ambos:15.2f}\")\n",
    "    else:\n",
    "        print(f\"{col:<25} {v0:10.4f} {v1:10.4f} {pct1:15.2f} {'N/A':>10} {'N/A':>15}\")\n"
   ]
  },
  {
   "cell_type": "markdown",
   "metadata": {},
   "source": [
    "Nos vamos a centrar principalmente en \n",
    "FactorRiesgo \n",
    "Localidad\n",
    "Causa        \n",
    "TipoAhogamiento  \n",
    "Pronostico          \n",
    "Sexo (duda)\n",
    "\n",
    "OJO FACTOR RIESGO TIENE EL 35% DE LOS DATOS BUENOS Y CAUSA EL 55%\n",
    "CON SEXO NO HAY QUE QU\n",
    "\n",
    "El estudio se va a realizar en en el siguiente notebook llamado analisis_descriptivo"
   ]
  },
  {
   "cell_type": "markdown",
   "metadata": {},
   "source": [
    "SOLO COMO PRUEBA, NO SIRVE DE MUCHO\n",
    "\n",
    "ES PARA VER QUE CUANTOS MENOS BINS MEJORES RESULTADOS\n",
    "\n",
    "\n",
    "Antes de nada, lo que se va a hacer es realizar este ultimo paso pero cambiando el numero de bins"
   ]
  },
  {
   "cell_type": "code",
   "execution_count": 44,
   "metadata": {},
   "outputs": [
    {
     "name": "stdout",
     "output_type": "stream",
     "text": [
      "\n",
      ">> Mejor número de bins para cada columna (ordenado por Cramér's V):\n",
      "Columna                   Mejor número de bins Cramér's V  \n",
      "FactorRiesgo              3               0.6768      \n",
      "Causa                     3               0.3450      \n",
      "Localidad                 3               0.3335      \n",
      "TipoAhogamiento           3               0.3169      \n",
      "Pronostico                3               0.2839      \n",
      "Antecedentes              3               0.2790      \n",
      "Reanimacion               3               0.2769      \n",
      "Riesgo                    3               0.2448      \n",
      "Actividad                 3               0.2381      \n",
      "Localizacion              3               0.1952      \n",
      "Intervencion              3               0.1876      \n",
      "Extraccion                3               0.1787      \n",
      "Deteccion                 3               0.1680      \n",
      "PrimerInterviniente       3               0.1665      \n",
      "MaterialRescate           3               0.1576      \n",
      "Provincia                 3               0.1399      \n",
      "Vigilancia                13              0.1388      \n",
      "Nacionalidad              3               0.1380      \n",
      "Sexo                      13              0.1330      \n",
      "Origen                    3               0.1237      \n",
      "CCAA                      3               0.1139      \n"
     ]
    }
   ],
   "source": [
    "import pandas as pd\n",
    "import numpy as np\n",
    "from sklearn.preprocessing import KBinsDiscretizer\n",
    "import matplotlib.pyplot as plt\n",
    "from scipy.stats import chi2_contingency\n",
    "\n",
    "def cramers_v(tabla):\n",
    "    chi2, p, dof, expected = chi2_contingency(tabla)\n",
    "\n",
    "    n = tabla.sum().sum()\n",
    "    phi2 = chi2/n\n",
    "    r, k = tabla.shape\n",
    "    phi2corr = max(0, phi2 - ((k-1)*(r-1))/(n-1))    \n",
    "    rcorr = r - ((r-1)**2)/(n-1)\n",
    "    kcorr = k - ((k-1)**2)/(n-1)\n",
    "    return np.sqrt(phi2corr / min((kcorr-1), (rcorr-1)))\n",
    "\n",
    "def calculate_cramers_v_for_bins(data, bins_list, columnas_categoricas):\n",
    "    results = {}\n",
    "    \n",
    "    for numero_bins in bins_list:\n",
    "        data2 = data.copy()\n",
    "\n",
    "        col_edad = data2[['Edad']].dropna()\n",
    "        kbin = KBinsDiscretizer(n_bins=numero_bins, encode='ordinal', strategy='kmeans')\n",
    "        data2.loc[col_edad.index, 'edad_bin_kmeans'] = kbin.fit_transform(col_edad).astype(int)\n",
    "\n",
    "        bins = [0]\n",
    "        for i in range(1, len(kbin.bin_edges_[0])):\n",
    "            bins.append(round(kbin.bin_edges_[0][i]))\n",
    "\n",
    "        labels = [f'Menor de {bins[1]} años']  \n",
    "        labels += [f'Entre {bins[i]} y {bins[i+1]} años' for i in range(1, len(bins) - 2)] \n",
    "        labels.append(f'Mayor de {bins[-2]} años') \n",
    "        \n",
    "        data2['Edad_discretizada'] = pd.cut(data2['Edad'], bins=bins, labels=labels)\n",
    "        data2['Edad_discretizada'] = data2['Edad_discretizada'].cat.add_categories(['Sin datos']).fillna('Sin datos')\n",
    "        \n",
    "        cramers_v_resultados_0 = []\n",
    "        cramers_v_resultados_1 = []\n",
    "        cramers_v_resultados_2 = []\n",
    "        \n",
    "        total_filas = len(data2)\n",
    "        \n",
    "        for col in columnas_categoricas:\n",
    "            if col == 'Edad_discretizada':\n",
    "                continue\n",
    "\n",
    "            tabla = pd.crosstab(data2['Edad_discretizada'], data2[col])\n",
    "            if tabla.shape[0] > 1 and tabla.shape[1] > 1:\n",
    "                v = cramers_v(tabla)\n",
    "                cramers_v_resultados_0.append((col, v))\n",
    "\n",
    "            subset = data2[data2[col] != \"Sin datos\"]\n",
    "            filas_restantes = len(subset)\n",
    "            porcentaje = (filas_restantes / total_filas) * 100\n",
    "            \n",
    "            tabla = pd.crosstab(subset['Edad_discretizada'], subset[col])\n",
    "            if tabla.shape[0] > 1 and tabla.shape[1] > 1:\n",
    "                v = cramers_v(tabla)\n",
    "                cramers_v_resultados_1.append((col, v, porcentaje))\n",
    "\n",
    "            subset = data2[\n",
    "                (data2[col] != \"Sin datos\") & (data2['Edad_discretizada'] != \"Sin datos\")\n",
    "            ]\n",
    "            filas_restantes = len(subset)\n",
    "            porcentaje = (filas_restantes / total_filas) * 100\n",
    "            \n",
    "            tabla = pd.crosstab(subset['Edad_discretizada'], subset[col])\n",
    "            if tabla.shape[0] > 1 and tabla.shape[1] > 1:\n",
    "                v = cramers_v(tabla)\n",
    "                cramers_v_resultados_2.append((col, v, porcentaje))\n",
    "        \n",
    "        results[numero_bins] = {\n",
    "            \"cramers_v_resultados_0\": sorted(cramers_v_resultados_0, key=lambda x: x[1], reverse=True),\n",
    "            \"cramers_v_resultados_1\": sorted(cramers_v_resultados_1, key=lambda x: x[1], reverse=True),\n",
    "            \"cramers_v_resultados_2\": sorted(cramers_v_resultados_2, key=lambda x: x[1], reverse=True)\n",
    "        }\n",
    "    \n",
    "    return results\n",
    "\n",
    "archivo = './ahogamientos-completo-procesado.csv'\n",
    "data = pd.read_csv(archivo, sep=',', encoding='utf-8')\n",
    "\n",
    "a_categorica = ['Localidad', 'Provincia', 'CCAA', 'Vigilancia', 'Actividad', 'Deteccion', 'Intervencion', \n",
    "                'Localizacion', 'Riesgo', 'Sexo', 'Nacionalidad', 'Origen', 'Causa', 'FactorRiesgo', \n",
    "                'Antecedentes', 'PrimerInterviniente', 'MaterialRescate', 'Extraccion', \n",
    "                'TipoAhogamiento', 'Reanimacion', 'Pronostico']\n",
    "a_numerica = ['IdAhogado', 'IdPersona', 'Edad']\n",
    "a_fecha = ['Fecha', 'Hora']\n",
    "\n",
    "for i in a_categorica:\n",
    "    data[i] = data[i].astype('category')\n",
    "\n",
    "for i in a_numerica:\n",
    "    data[i] = pd.to_numeric(data[i], errors='coerce').dropna().astype('int64')\n",
    "\n",
    "data[\"Fecha\"] = data[\"Fecha\"].str.split(\"T\").str[0]\n",
    "data[\"Hora\"] = data[\"Hora\"].str.split(\"T\").str[1].str.replace(\"Z\", \"\")\n",
    "data[\"Fecha\"] = pd.to_datetime(data[\"Fecha\"], errors=\"coerce\")\n",
    "data[\"Hora\"] = pd.to_datetime(data[\"Hora\"], format=\"%H:%M:%S\", errors=\"coerce\").dt.time\n",
    "\n",
    "bins_list = [3,5,7,9,11,13]\n",
    "\n",
    "results = calculate_cramers_v_for_bins(data, bins_list, a_categorica)\n",
    "\n",
    "best_bins = {}\n",
    "\n",
    "for numero_bins in bins_list:\n",
    "    \n",
    "    comparacion = []\n",
    "    for (col, v0), (col1, v1, pct) in zip(results[numero_bins][\"cramers_v_resultados_0\"], results[numero_bins][\"cramers_v_resultados_1\"]):\n",
    "        v2 = next((v for c, v, _ in results[numero_bins][\"cramers_v_resultados_2\"] if c == col), None)\n",
    "        diff = v2 - v1 if v2 is not None else None\n",
    "        comparacion.append((col, v0, v1, v2, diff))\n",
    "    \n",
    "    comparacion.sort(key=lambda x: x[2], reverse=True)\n",
    "\n",
    "    for col, v0, v1, v2, diff in comparacion:\n",
    "\n",
    "        if col not in best_bins or (v2 is not None and v2 > best_bins[col][1]):\n",
    "            best_bins[col] = (numero_bins, v2)\n",
    "\n",
    "sorted_best_bins = sorted(best_bins.items(), key=lambda x: x[1][1], reverse=True)\n",
    "\n",
    "print(\"\\n>> Mejor número de bins para cada columna (ordenado por Cramér's V):\")\n",
    "print(\"{:<25} {:<15} {:<12}\".format(\"Columna\", \"Mejor número de bins\", \"Cramér's V\"))\n",
    "for col, (bins, v) in sorted_best_bins:\n",
    "    print(f\"{col:<25} {bins:<15} {v:<12.4f}\")\n"
   ]
  }
 ],
 "metadata": {
  "kernelspec": {
   "display_name": "Python 3",
   "language": "python",
   "name": "python3"
  },
  "language_info": {
   "codemirror_mode": {
    "name": "ipython",
    "version": 3
   },
   "file_extension": ".py",
   "mimetype": "text/x-python",
   "name": "python",
   "nbconvert_exporter": "python",
   "pygments_lexer": "ipython3",
   "version": "3.13.0"
  }
 },
 "nbformat": 4,
 "nbformat_minor": 2
}
